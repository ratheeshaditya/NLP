{
  "nbformat": 4,
  "nbformat_minor": 0,
  "metadata": {
    "colab": {
      "name": "Corona tweet sentiment prediction .ipynb",
      "provenance": [],
      "collapsed_sections": []
    },
    "kernelspec": {
      "name": "python3",
      "display_name": "Python 3"
    }
  },
  "cells": [
    {
      "cell_type": "markdown",
      "metadata": {
        "id": "wu0oIdOchbNY"
      },
      "source": [
        "In this kernel i will be performing sentiment prediction for 'Corona Tweets'  using bi-directional LSTM. The kernel will be having these section and will be explaining it as you scroll"
      ]
    },
    {
      "cell_type": "markdown",
      "metadata": {
        "id": "yC1fTgFcbAgU"
      },
      "source": [
        "*   Importing the required library's\n",
        "*   Cleaning the data\n",
        "  *   Converting the text to lower case\n",
        "  *   Removing URL's\n",
        "  *   Removing stop words\n",
        "  *   Removing punctuation's\n",
        "\n",
        "*   Preparing the text and building the model\n",
        "  *   Tokenizing the text\n",
        "  *   Converting the texts to sequences\n",
        "  *   Padding the sequence\n",
        "  *   Building the model & model summary\n",
        "  *   Training the model\n",
        "\n",
        "*   Predicting on test data and calculating accuracy score and plotting confusion matrix\n",
        "\n",
        "\n",
        "\n",
        "\n",
        "\n"
      ]
    },
    {
      "cell_type": "markdown",
      "metadata": {
        "id": "E6znsDafhuEy"
      },
      "source": [
        "<h3>Importing required library's</h3>"
      ]
    },
    {
      "cell_type": "code",
      "metadata": {
        "id": "5DcYCcUlLtGh"
      },
      "source": [
        "import os\n",
        "import pandas as pd\n",
        "import re\n",
        "from tensorflow.keras.losses import SparseCategoricalCrossentropy\n",
        "from tensorflow.keras.models import Sequential\n",
        "from tensorflow.keras.layers import Dropout\n",
        "import tensorflow.keras.layers as L\n",
        "import tensorflow as tf\n",
        "from tensorflow.keras.models import Sequential\n",
        "from tensorflow.keras.layers import Dropout\n",
        "import nltk\n",
        "from sklearn.metrics import accuracy_score\n",
        "from sklearn.metrics import confusion_matrix\n",
        "import seaborn as sns\n",
        "import numpy as np\n",
        "from string import punctuation\n",
        "from nltk.corpus import stopwords\n",
        "from tensorflow.keras.preprocessing.text import Tokenizer\n",
        "from tensorflow.keras.preprocessing.sequence import pad_sequences\n",
        "from sklearn.model_selection import train_test_split"
      ],
      "execution_count": 62,
      "outputs": []
    },
    {
      "cell_type": "code",
      "metadata": {
        "id": "TDUnarCmEkAd",
        "outputId": "050f8fb2-ec75-4a55-ed72-c7ac4b262f49",
        "colab": {
          "base_uri": "https://localhost:8080/",
          "height": 68
        }
      },
      "source": [
        "nltk.download(\"stopwords\")"
      ],
      "execution_count": 63,
      "outputs": [
        {
          "output_type": "stream",
          "text": [
            "[nltk_data] Downloading package stopwords to /root/nltk_data...\n",
            "[nltk_data]   Package stopwords is already up-to-date!\n"
          ],
          "name": "stdout"
        },
        {
          "output_type": "execute_result",
          "data": {
            "text/plain": [
              "True"
            ]
          },
          "metadata": {
            "tags": []
          },
          "execution_count": 63
        }
      ]
    },
    {
      "cell_type": "code",
      "metadata": {
        "id": "uSka3f71V4vK"
      },
      "source": [
        "os.chdir(\"/content/drive/My Drive/Python/Practice/Corona NLP\")"
      ],
      "execution_count": 64,
      "outputs": []
    },
    {
      "cell_type": "code",
      "metadata": {
        "id": "2PVgRfKJV62u",
        "outputId": "fb46389c-bd0a-493e-acc6-ce56ac142c89",
        "colab": {
          "base_uri": "https://localhost:8080/",
          "height": 51
        }
      },
      "source": [
        "ls"
      ],
      "execution_count": 65,
      "outputs": [
        {
          "output_type": "stream",
          "text": [
            " Corona_NLP_test.csv   'Corona Text Classification.ipynb'\n",
            " Corona_NLP_train.csv  'Corona tweet sentiment prediction .ipynb'\n"
          ],
          "name": "stdout"
        }
      ]
    },
    {
      "cell_type": "code",
      "metadata": {
        "id": "ECqi_VHTV-Cm"
      },
      "source": [
        "df = pd.read_csv(\"Corona_NLP_train.csv\",encoding=\"latin-1\")"
      ],
      "execution_count": 66,
      "outputs": []
    },
    {
      "cell_type": "code",
      "metadata": {
        "id": "TS4n-nZcWzdz"
      },
      "source": [
        "test_data = pd.read_csv(\"Corona_NLP_test.csv\")"
      ],
      "execution_count": 67,
      "outputs": []
    },
    {
      "cell_type": "code",
      "metadata": {
        "id": "0J6kVD1CWCb-",
        "outputId": "089aa44b-1d85-4f78-9d94-463a1bff50d8",
        "colab": {
          "base_uri": "https://localhost:8080/",
          "height": 204
        }
      },
      "source": [
        "df.head()"
      ],
      "execution_count": 68,
      "outputs": [
        {
          "output_type": "execute_result",
          "data": {
            "text/html": [
              "<div>\n",
              "<style scoped>\n",
              "    .dataframe tbody tr th:only-of-type {\n",
              "        vertical-align: middle;\n",
              "    }\n",
              "\n",
              "    .dataframe tbody tr th {\n",
              "        vertical-align: top;\n",
              "    }\n",
              "\n",
              "    .dataframe thead th {\n",
              "        text-align: right;\n",
              "    }\n",
              "</style>\n",
              "<table border=\"1\" class=\"dataframe\">\n",
              "  <thead>\n",
              "    <tr style=\"text-align: right;\">\n",
              "      <th></th>\n",
              "      <th>UserName</th>\n",
              "      <th>ScreenName</th>\n",
              "      <th>Location</th>\n",
              "      <th>TweetAt</th>\n",
              "      <th>OriginalTweet</th>\n",
              "      <th>Sentiment</th>\n",
              "    </tr>\n",
              "  </thead>\n",
              "  <tbody>\n",
              "    <tr>\n",
              "      <th>0</th>\n",
              "      <td>3799</td>\n",
              "      <td>48751</td>\n",
              "      <td>London</td>\n",
              "      <td>16-03-2020</td>\n",
              "      <td>@MeNyrbie @Phil_Gahan @Chrisitv https://t.co/i...</td>\n",
              "      <td>Neutral</td>\n",
              "    </tr>\n",
              "    <tr>\n",
              "      <th>1</th>\n",
              "      <td>3800</td>\n",
              "      <td>48752</td>\n",
              "      <td>UK</td>\n",
              "      <td>16-03-2020</td>\n",
              "      <td>advice Talk to your neighbours family to excha...</td>\n",
              "      <td>Positive</td>\n",
              "    </tr>\n",
              "    <tr>\n",
              "      <th>2</th>\n",
              "      <td>3801</td>\n",
              "      <td>48753</td>\n",
              "      <td>Vagabonds</td>\n",
              "      <td>16-03-2020</td>\n",
              "      <td>Coronavirus Australia: Woolworths to give elde...</td>\n",
              "      <td>Positive</td>\n",
              "    </tr>\n",
              "    <tr>\n",
              "      <th>3</th>\n",
              "      <td>3802</td>\n",
              "      <td>48754</td>\n",
              "      <td>NaN</td>\n",
              "      <td>16-03-2020</td>\n",
              "      <td>My food stock is not the only one which is emp...</td>\n",
              "      <td>Positive</td>\n",
              "    </tr>\n",
              "    <tr>\n",
              "      <th>4</th>\n",
              "      <td>3803</td>\n",
              "      <td>48755</td>\n",
              "      <td>NaN</td>\n",
              "      <td>16-03-2020</td>\n",
              "      <td>Me, ready to go at supermarket during the #COV...</td>\n",
              "      <td>Extremely Negative</td>\n",
              "    </tr>\n",
              "  </tbody>\n",
              "</table>\n",
              "</div>"
            ],
            "text/plain": [
              "   UserName  ...           Sentiment\n",
              "0      3799  ...             Neutral\n",
              "1      3800  ...            Positive\n",
              "2      3801  ...            Positive\n",
              "3      3802  ...            Positive\n",
              "4      3803  ...  Extremely Negative\n",
              "\n",
              "[5 rows x 6 columns]"
            ]
          },
          "metadata": {
            "tags": []
          },
          "execution_count": 68
        }
      ]
    },
    {
      "cell_type": "code",
      "metadata": {
        "id": "BrMlMh6iWVPR",
        "outputId": "e2c43c9e-bf32-4a89-fcb5-bdc215f806a0",
        "colab": {
          "base_uri": "https://localhost:8080/",
          "height": 119
        }
      },
      "source": [
        "df['Sentiment'].value_counts()"
      ],
      "execution_count": 69,
      "outputs": [
        {
          "output_type": "execute_result",
          "data": {
            "text/plain": [
              "Positive              11422\n",
              "Negative               9917\n",
              "Neutral                7713\n",
              "Extremely Positive     6624\n",
              "Extremely Negative     5481\n",
              "Name: Sentiment, dtype: int64"
            ]
          },
          "metadata": {
            "tags": []
          },
          "execution_count": 69
        }
      ]
    },
    {
      "cell_type": "markdown",
      "metadata": {
        "id": "4uxM2wq4CZbL"
      },
      "source": [
        "Since we have unique values like 'Positive' , 'Negative' , 'Neutral' , 'Extremely Positive' , ' Extremely Negative' we will just convert them to 'Positive' , 'Negative, 'Neutral' with it's corresponding integer value"
      ]
    },
    {
      "cell_type": "code",
      "metadata": {
        "id": "PtLxe6LaDX9g"
      },
      "source": [
        "def encode_sentiment(sentiment):\n",
        "  if sentiment==\"Neutral\":\n",
        "    return 0\n",
        "  elif sentiment==\"Positive\":\n",
        "    return 2\n",
        "  elif sentiment==\"Negative\":\n",
        "    return 1\n",
        "  elif sentiment==\"Extremely Positive\":\n",
        "    return 2\n",
        "  elif sentiment==\"Extremely Negative\":\n",
        "    return 1"
      ],
      "execution_count": 70,
      "outputs": []
    },
    {
      "cell_type": "markdown",
      "metadata": {
        "id": "HWCpKrseiNAX"
      },
      "source": [
        "Creating a new column called 'new_sentiment' and applying the 'encode_sentiment' function to the 'sentiment' column which results in encoding the values to an integer"
      ]
    },
    {
      "cell_type": "code",
      "metadata": {
        "id": "HEMqiCQHCVJK"
      },
      "source": [
        "df['new_sentiment'] = df['Sentiment'].apply(encode_sentiment)"
      ],
      "execution_count": 71,
      "outputs": []
    },
    {
      "cell_type": "code",
      "metadata": {
        "id": "F4k6vilQDtey",
        "outputId": "81cb43f0-0c02-4f16-ec9a-509f0a4fbe32",
        "colab": {
          "base_uri": "https://localhost:8080/",
          "height": 85
        }
      },
      "source": [
        "df['new_sentiment'].value_counts()"
      ],
      "execution_count": 72,
      "outputs": [
        {
          "output_type": "execute_result",
          "data": {
            "text/plain": [
              "2    18046\n",
              "1    15398\n",
              "0     7713\n",
              "Name: new_sentiment, dtype: int64"
            ]
          },
          "metadata": {
            "tags": []
          },
          "execution_count": 72
        }
      ]
    },
    {
      "cell_type": "code",
      "metadata": {
        "id": "fIM5ind5DwGj"
      },
      "source": [
        "train_df = df[['OriginalTweet','new_sentiment']]"
      ],
      "execution_count": 23,
      "outputs": []
    },
    {
      "cell_type": "code",
      "metadata": {
        "id": "i2IJzjORD5uT",
        "outputId": "e1851a11-8fac-4e5b-de1c-701123f306f3",
        "colab": {
          "base_uri": "https://localhost:8080/",
          "height": 204
        }
      },
      "source": [
        "train_df.head()"
      ],
      "execution_count": 24,
      "outputs": [
        {
          "output_type": "execute_result",
          "data": {
            "text/html": [
              "<div>\n",
              "<style scoped>\n",
              "    .dataframe tbody tr th:only-of-type {\n",
              "        vertical-align: middle;\n",
              "    }\n",
              "\n",
              "    .dataframe tbody tr th {\n",
              "        vertical-align: top;\n",
              "    }\n",
              "\n",
              "    .dataframe thead th {\n",
              "        text-align: right;\n",
              "    }\n",
              "</style>\n",
              "<table border=\"1\" class=\"dataframe\">\n",
              "  <thead>\n",
              "    <tr style=\"text-align: right;\">\n",
              "      <th></th>\n",
              "      <th>OriginalTweet</th>\n",
              "      <th>new_sentiment</th>\n",
              "    </tr>\n",
              "  </thead>\n",
              "  <tbody>\n",
              "    <tr>\n",
              "      <th>0</th>\n",
              "      <td>@MeNyrbie @Phil_Gahan @Chrisitv https://t.co/i...</td>\n",
              "      <td>0</td>\n",
              "    </tr>\n",
              "    <tr>\n",
              "      <th>1</th>\n",
              "      <td>advice Talk to your neighbours family to excha...</td>\n",
              "      <td>2</td>\n",
              "    </tr>\n",
              "    <tr>\n",
              "      <th>2</th>\n",
              "      <td>Coronavirus Australia: Woolworths to give elde...</td>\n",
              "      <td>2</td>\n",
              "    </tr>\n",
              "    <tr>\n",
              "      <th>3</th>\n",
              "      <td>My food stock is not the only one which is emp...</td>\n",
              "      <td>2</td>\n",
              "    </tr>\n",
              "    <tr>\n",
              "      <th>4</th>\n",
              "      <td>Me, ready to go at supermarket during the #COV...</td>\n",
              "      <td>1</td>\n",
              "    </tr>\n",
              "  </tbody>\n",
              "</table>\n",
              "</div>"
            ],
            "text/plain": [
              "                                       OriginalTweet  new_sentiment\n",
              "0  @MeNyrbie @Phil_Gahan @Chrisitv https://t.co/i...              0\n",
              "1  advice Talk to your neighbours family to excha...              2\n",
              "2  Coronavirus Australia: Woolworths to give elde...              2\n",
              "3  My food stock is not the only one which is emp...              2\n",
              "4  Me, ready to go at supermarket during the #COV...              1"
            ]
          },
          "metadata": {
            "tags": []
          },
          "execution_count": 24
        }
      ]
    },
    {
      "cell_type": "code",
      "metadata": {
        "id": "kXZzviJFD6oM"
      },
      "source": [
        "train_df = train_df.sample(frac=1)"
      ],
      "execution_count": 25,
      "outputs": []
    },
    {
      "cell_type": "code",
      "metadata": {
        "id": "gxSxWgl6Duou"
      },
      "source": [
        "sentiment = train_df['new_sentiment'].values"
      ],
      "execution_count": 26,
      "outputs": []
    },
    {
      "cell_type": "markdown",
      "metadata": {
        "id": "KBQJn6abi5Nx"
      },
      "source": [
        "<H3>Preprocessing Text</h3>"
      ]
    },
    {
      "cell_type": "markdown",
      "metadata": {
        "id": "yd_EyA8bjCvL"
      },
      "source": [
        "For Preprocessing we will , \n",
        "*   Convert the text to string\n",
        "*   Lower the string\n",
        "*   Create a Regular Expression to remove any URL's\n",
        "*   Removing punctuation\n",
        "*   Removing any special characters\n",
        "*   Remove stopwords\n",
        "\n",
        "\n",
        "\n"
      ]
    },
    {
      "cell_type": "code",
      "metadata": {
        "id": "oKCNdVBgFxBl"
      },
      "source": [
        "def process_text(text):\n",
        "  text = str(text) #Convert string to str\n",
        "  #Lowers the string\n",
        "  text = text.lower()\n",
        "  #Removes the full url\n",
        "  url_remove = re.compile(r'(http|ftp|https)://([\\w_-]+(?:(?:\\.[\\w_-]+)+))([\\w.,@?^=%&:/~+#-]*[\\w@?^=%&/~+#-])?')\n",
        "  text = re.sub(url_remove,' ',text)\n",
        "  #Removes the punctuation\n",
        "  text = ''.join([string for string in text if string not in punctuation and not string.isdigit()])\n",
        "  #Removes any more special characters\n",
        "  special_character = re.compile(r'[^a-zA-Z]')\n",
        "  text = re.sub(special_character,' ', text)\n",
        "  text = text.strip() #Strip white spaces\n",
        "  text = text.split(' ')\n",
        "  text = ' '.join([string for string in text if string not in stopwords.words('english')])#Removing all stop words\n",
        "  return text"
      ],
      "execution_count": 27,
      "outputs": []
    },
    {
      "cell_type": "code",
      "metadata": {
        "id": "YASlgXo-8WTz"
      },
      "source": [
        "train_df['processed_tweet'] = train_df['OriginalTweet'].apply(process_text)"
      ],
      "execution_count": 28,
      "outputs": []
    },
    {
      "cell_type": "code",
      "metadata": {
        "id": "2_UgxPXL_fdm",
        "outputId": "6367c7d1-ed2a-40b3-f381-b89724c62fc7",
        "colab": {
          "base_uri": "https://localhost:8080/",
          "height": 255
        }
      },
      "source": [
        "train_df.head()"
      ],
      "execution_count": 29,
      "outputs": [
        {
          "output_type": "execute_result",
          "data": {
            "text/html": [
              "<div>\n",
              "<style scoped>\n",
              "    .dataframe tbody tr th:only-of-type {\n",
              "        vertical-align: middle;\n",
              "    }\n",
              "\n",
              "    .dataframe tbody tr th {\n",
              "        vertical-align: top;\n",
              "    }\n",
              "\n",
              "    .dataframe thead th {\n",
              "        text-align: right;\n",
              "    }\n",
              "</style>\n",
              "<table border=\"1\" class=\"dataframe\">\n",
              "  <thead>\n",
              "    <tr style=\"text-align: right;\">\n",
              "      <th></th>\n",
              "      <th>OriginalTweet</th>\n",
              "      <th>new_sentiment</th>\n",
              "      <th>processed_tweet</th>\n",
              "    </tr>\n",
              "  </thead>\n",
              "  <tbody>\n",
              "    <tr>\n",
              "      <th>4666</th>\n",
              "      <td>#WhatAreThoseWednesday When thereÂs no meat a...</td>\n",
              "      <td>1</td>\n",
              "      <td>whatarethosewednesday  meat grocery store impr...</td>\n",
              "    </tr>\n",
              "    <tr>\n",
              "      <th>39842</th>\n",
              "      <td>#Import #PP prices in #Turkey were on a downtr...</td>\n",
              "      <td>1</td>\n",
              "      <td>import pp prices turkey downtrend since late f...</td>\n",
              "    </tr>\n",
              "    <tr>\n",
              "      <th>776</th>\n",
              "      <td>Stop panic buying. It is consider mass gatheri...</td>\n",
              "      <td>1</td>\n",
              "      <td>stop panic buying consider mass gathering well...</td>\n",
              "    </tr>\n",
              "    <tr>\n",
              "      <th>27020</th>\n",
              "      <td>#Coronavirus killed the #OilDeal. There is a h...</td>\n",
              "      <td>1</td>\n",
              "      <td>coronavirus killed oildeal huge possibility ne...</td>\n",
              "    </tr>\n",
              "    <tr>\n",
              "      <th>19986</th>\n",
              "      <td>your scared to catch #HIV &amp;amp; you will use a...</td>\n",
              "      <td>1</td>\n",
              "      <td>scared catch hiv amp use protections amp preca...</td>\n",
              "    </tr>\n",
              "  </tbody>\n",
              "</table>\n",
              "</div>"
            ],
            "text/plain": [
              "                                           OriginalTweet  ...                                    processed_tweet\n",
              "4666   #WhatAreThoseWednesday When thereÂs no meat a...  ...  whatarethosewednesday  meat grocery store impr...\n",
              "39842  #Import #PP prices in #Turkey were on a downtr...  ...  import pp prices turkey downtrend since late f...\n",
              "776    Stop panic buying. It is consider mass gatheri...  ...  stop panic buying consider mass gathering well...\n",
              "27020  #Coronavirus killed the #OilDeal. There is a h...  ...  coronavirus killed oildeal huge possibility ne...\n",
              "19986  your scared to catch #HIV &amp; you will use a...  ...  scared catch hiv amp use protections amp preca...\n",
              "\n",
              "[5 rows x 3 columns]"
            ]
          },
          "metadata": {
            "tags": []
          },
          "execution_count": 29
        }
      ]
    },
    {
      "cell_type": "markdown",
      "metadata": {
        "id": "h_sRgdSpct3D"
      },
      "source": [
        "<h3>Tokenizing text</h3>"
      ]
    },
    {
      "cell_type": "code",
      "metadata": {
        "id": "hdRTZ7RXCwWn"
      },
      "source": [
        "tokenizer = Tokenizer()"
      ],
      "execution_count": 31,
      "outputs": []
    },
    {
      "cell_type": "code",
      "metadata": {
        "id": "lav2hjNkCyTM"
      },
      "source": [
        "tokenizer.fit_on_texts(train_df['processed_tweet'].values)"
      ],
      "execution_count": 32,
      "outputs": []
    },
    {
      "cell_type": "code",
      "metadata": {
        "id": "yagWpUH3DBj9"
      },
      "source": [
        "train =  tokenizer.texts_to_sequences(train_df['processed_tweet'].values)"
      ],
      "execution_count": 34,
      "outputs": []
    },
    {
      "cell_type": "markdown",
      "metadata": {
        "id": "kDXSnWW5jo0R"
      },
      "source": [
        "Padding post the text with '0' so they all be of same length"
      ]
    },
    {
      "cell_type": "code",
      "metadata": {
        "id": "EVp2soo4DW-X"
      },
      "source": [
        "train = pad_sequences(train,padding='post')"
      ],
      "execution_count": 35,
      "outputs": []
    },
    {
      "cell_type": "code",
      "metadata": {
        "id": "c0rjVzgQDbze"
      },
      "source": [
        "x_train , x_test , y_train , y_test = train_test_split(train,sentiment,test_size=0.2,random_state=42)"
      ],
      "execution_count": 37,
      "outputs": []
    },
    {
      "cell_type": "markdown",
      "metadata": {
        "id": "3QWbVI9Cc46n"
      },
      "source": [
        "<h3>Building the Model</h3>"
      ]
    },
    {
      "cell_type": "code",
      "metadata": {
        "id": "6NSgniHKE3Wf"
      },
      "source": [
        "embedding_vectors = 30\n",
        "VOCAB_SIZE = len(tokenizer.word_index)+1"
      ],
      "execution_count": 39,
      "outputs": []
    },
    {
      "cell_type": "code",
      "metadata": {
        "id": "egZTWnlaElhd"
      },
      "source": [
        "model = tf.keras.Sequential([\n",
        "    L.Embedding(VOCAB_SIZE,embedding_vectors, input_length=x_train.shape[1]),\n",
        "    L.Bidirectional(L.LSTM(256,return_sequences=True)),\n",
        "    L.GlobalMaxPool1D(),\n",
        "    L.Dropout(0.4),\n",
        "    L.Dense(256, activation=\"relu\"),\n",
        "    L.Dropout(0.4),\n",
        "    L.Dense(3)\n",
        "])"
      ],
      "execution_count": 73,
      "outputs": []
    },
    {
      "cell_type": "code",
      "metadata": {
        "id": "_qESIJPIJp1E"
      },
      "source": [
        "model.compile(loss=SparseCategoricalCrossentropy(from_logits=True),\n",
        "              optimizer='adam',metrics=['accuracy']\n",
        "             )"
      ],
      "execution_count": 41,
      "outputs": []
    },
    {
      "cell_type": "code",
      "metadata": {
        "id": "X6nMddO0E1xL",
        "outputId": "23809c74-8ad8-40d1-8fdc-622d08743a52",
        "colab": {
          "base_uri": "https://localhost:8080/",
          "height": 391
        }
      },
      "source": [
        "model.summary()"
      ],
      "execution_count": 42,
      "outputs": [
        {
          "output_type": "stream",
          "text": [
            "Model: \"sequential\"\n",
            "_________________________________________________________________\n",
            "Layer (type)                 Output Shape              Param #   \n",
            "=================================================================\n",
            "embedding (Embedding)        (None, 46, 30)            1709340   \n",
            "_________________________________________________________________\n",
            "bidirectional (Bidirectional (None, 46, 512)           587776    \n",
            "_________________________________________________________________\n",
            "global_max_pooling1d (Global (None, 512)               0         \n",
            "_________________________________________________________________\n",
            "dropout (Dropout)            (None, 512)               0         \n",
            "_________________________________________________________________\n",
            "dense (Dense)                (None, 256)               131328    \n",
            "_________________________________________________________________\n",
            "dropout_1 (Dropout)          (None, 256)               0         \n",
            "_________________________________________________________________\n",
            "dense_1 (Dense)              (None, 3)                 771       \n",
            "=================================================================\n",
            "Total params: 2,429,215\n",
            "Trainable params: 2,429,215\n",
            "Non-trainable params: 0\n",
            "_________________________________________________________________\n"
          ],
          "name": "stdout"
        }
      ]
    },
    {
      "cell_type": "markdown",
      "metadata": {
        "id": "uAcIF0sxj4z9"
      },
      "source": [
        "<h3>Training the data</h3>"
      ]
    },
    {
      "cell_type": "code",
      "metadata": {
        "id": "N5M96qTfFB31",
        "outputId": "22fcfd13-a789-4fb6-c62a-3d42666777c3",
        "colab": {
          "base_uri": "https://localhost:8080/",
          "height": 122
        }
      },
      "source": [
        "model.fit(x_train,y_train,epochs=2,\n",
        "          validation_data=(x_test,y_test))"
      ],
      "execution_count": 43,
      "outputs": [
        {
          "output_type": "stream",
          "text": [
            "Epoch 1/2\n",
            "1029/1029 [==============================] - 300s 291ms/step - loss: 0.6444 - accuracy: 0.7287 - val_loss: 0.4674 - val_accuracy: 0.8341\n",
            "Epoch 2/2\n",
            "1029/1029 [==============================] - 297s 289ms/step - loss: 0.3365 - accuracy: 0.8883 - val_loss: 0.4457 - val_accuracy: 0.8482\n"
          ],
          "name": "stdout"
        },
        {
          "output_type": "execute_result",
          "data": {
            "text/plain": [
              "<tensorflow.python.keras.callbacks.History at 0x7f5ad9316eb8>"
            ]
          },
          "metadata": {
            "tags": []
          },
          "execution_count": 43
        }
      ]
    },
    {
      "cell_type": "markdown",
      "metadata": {
        "id": "S4Jo-ZV4dCgP"
      },
      "source": [
        "<h3>Making predictions on test data</h3>"
      ]
    },
    {
      "cell_type": "code",
      "metadata": {
        "id": "WjKy3cjxN4Tx"
      },
      "source": [
        "test = test_data[['OriginalTweet','Sentiment']]"
      ],
      "execution_count": 44,
      "outputs": []
    },
    {
      "cell_type": "code",
      "metadata": {
        "id": "ix4iNaQyN7JU",
        "outputId": "e79f99d0-84db-4fe7-b81f-9c1ff1faa9b5",
        "colab": {
          "base_uri": "https://localhost:8080/",
          "height": 139
        }
      },
      "source": [
        "test['processed_tweet'] = test_data['OriginalTweet'].apply(process_text)"
      ],
      "execution_count": 45,
      "outputs": [
        {
          "output_type": "stream",
          "text": [
            "/usr/local/lib/python3.6/dist-packages/ipykernel_launcher.py:1: SettingWithCopyWarning: \n",
            "A value is trying to be set on a copy of a slice from a DataFrame.\n",
            "Try using .loc[row_indexer,col_indexer] = value instead\n",
            "\n",
            "See the caveats in the documentation: https://pandas.pydata.org/pandas-docs/stable/user_guide/indexing.html#returning-a-view-versus-a-copy\n",
            "  \"\"\"Entry point for launching an IPython kernel.\n"
          ],
          "name": "stderr"
        }
      ]
    },
    {
      "cell_type": "code",
      "metadata": {
        "id": "fkLu6WnsOIQm",
        "outputId": "69e16fd3-9dc9-4c76-ff50-1e308afa5bc2",
        "colab": {
          "base_uri": "https://localhost:8080/",
          "height": 139
        }
      },
      "source": [
        "test['new_sentiment'] = test_data['Sentiment'].apply(encode_sentiment)"
      ],
      "execution_count": 46,
      "outputs": [
        {
          "output_type": "stream",
          "text": [
            "/usr/local/lib/python3.6/dist-packages/ipykernel_launcher.py:1: SettingWithCopyWarning: \n",
            "A value is trying to be set on a copy of a slice from a DataFrame.\n",
            "Try using .loc[row_indexer,col_indexer] = value instead\n",
            "\n",
            "See the caveats in the documentation: https://pandas.pydata.org/pandas-docs/stable/user_guide/indexing.html#returning-a-view-versus-a-copy\n",
            "  \"\"\"Entry point for launching an IPython kernel.\n"
          ],
          "name": "stderr"
        }
      ]
    },
    {
      "cell_type": "code",
      "metadata": {
        "id": "oMisMXrpOOdv",
        "outputId": "aedaa94a-2299-446a-fc2d-c7eec94cb8e1",
        "colab": {
          "base_uri": "https://localhost:8080/",
          "height": 122
        }
      },
      "source": [
        "test.drop(['OriginalTweet','Sentiment'],inplace=True,axis=1)"
      ],
      "execution_count": 47,
      "outputs": [
        {
          "output_type": "stream",
          "text": [
            "/usr/local/lib/python3.6/dist-packages/pandas/core/frame.py:4169: SettingWithCopyWarning: \n",
            "A value is trying to be set on a copy of a slice from a DataFrame\n",
            "\n",
            "See the caveats in the documentation: https://pandas.pydata.org/pandas-docs/stable/user_guide/indexing.html#returning-a-view-versus-a-copy\n",
            "  errors=errors,\n"
          ],
          "name": "stderr"
        }
      ]
    },
    {
      "cell_type": "code",
      "metadata": {
        "id": "K8G55uwCORXe",
        "outputId": "1d6da96d-bb64-450a-84c1-d8fd48c10afa",
        "colab": {
          "base_uri": "https://localhost:8080/",
          "height": 204
        }
      },
      "source": [
        "test.head()"
      ],
      "execution_count": 48,
      "outputs": [
        {
          "output_type": "execute_result",
          "data": {
            "text/html": [
              "<div>\n",
              "<style scoped>\n",
              "    .dataframe tbody tr th:only-of-type {\n",
              "        vertical-align: middle;\n",
              "    }\n",
              "\n",
              "    .dataframe tbody tr th {\n",
              "        vertical-align: top;\n",
              "    }\n",
              "\n",
              "    .dataframe thead th {\n",
              "        text-align: right;\n",
              "    }\n",
              "</style>\n",
              "<table border=\"1\" class=\"dataframe\">\n",
              "  <thead>\n",
              "    <tr style=\"text-align: right;\">\n",
              "      <th></th>\n",
              "      <th>processed_tweet</th>\n",
              "      <th>new_sentiment</th>\n",
              "    </tr>\n",
              "  </thead>\n",
              "  <tbody>\n",
              "    <tr>\n",
              "      <th>0</th>\n",
              "      <td>trending new yorkers encounter empty supermark...</td>\n",
              "      <td>1</td>\n",
              "    </tr>\n",
              "    <tr>\n",
              "      <th>1</th>\n",
              "      <td>couldnt find hand sanitizer fred meyer turned ...</td>\n",
              "      <td>2</td>\n",
              "    </tr>\n",
              "    <tr>\n",
              "      <th>2</th>\n",
              "      <td>find protect loved ones coronavirus</td>\n",
              "      <td>2</td>\n",
              "    </tr>\n",
              "    <tr>\n",
              "      <th>3</th>\n",
              "      <td>panic buying hits newyork city anxious shopper...</td>\n",
              "      <td>1</td>\n",
              "    </tr>\n",
              "    <tr>\n",
              "      <th>4</th>\n",
              "      <td>toiletpaper dunnypaper coronavirus coronavirus...</td>\n",
              "      <td>0</td>\n",
              "    </tr>\n",
              "  </tbody>\n",
              "</table>\n",
              "</div>"
            ],
            "text/plain": [
              "                                     processed_tweet  new_sentiment\n",
              "0  trending new yorkers encounter empty supermark...              1\n",
              "1  couldnt find hand sanitizer fred meyer turned ...              2\n",
              "2                find protect loved ones coronavirus              2\n",
              "3  panic buying hits newyork city anxious shopper...              1\n",
              "4  toiletpaper dunnypaper coronavirus coronavirus...              0"
            ]
          },
          "metadata": {
            "tags": []
          },
          "execution_count": 48
        }
      ]
    },
    {
      "cell_type": "code",
      "metadata": {
        "id": "Vnutv0YIOXR3"
      },
      "source": [
        "test_tweet = test['processed_tweet'].values\n",
        "test_sentiment = test['new_sentiment'].values"
      ],
      "execution_count": 49,
      "outputs": []
    },
    {
      "cell_type": "code",
      "metadata": {
        "id": "ERbWdfoqO6Hz"
      },
      "source": [
        "convert_seq = tokenizer.texts_to_sequences(test_tweet)"
      ],
      "execution_count": 50,
      "outputs": []
    },
    {
      "cell_type": "code",
      "metadata": {
        "id": "Ye5uZ7y1PAKy"
      },
      "source": [
        "convert_seq = pad_sequences(convert_seq,padding='post')"
      ],
      "execution_count": 51,
      "outputs": []
    },
    {
      "cell_type": "markdown",
      "metadata": {
        "id": "_bHEAsA0dJXn"
      },
      "source": [
        "<h3>Making predictions on test data</h3>"
      ]
    },
    {
      "cell_type": "code",
      "metadata": {
        "id": "rlYw0czWPPn7",
        "outputId": "70c9219f-4250-4974-d054-e9c7057faeb4",
        "colab": {
          "base_uri": "https://localhost:8080/",
          "height": 105
        }
      },
      "source": [
        "predict = model.predict_classes(convert_seq)"
      ],
      "execution_count": 53,
      "outputs": [
        {
          "output_type": "stream",
          "text": [
            "WARNING:tensorflow:From <ipython-input-53-2422c4c5eb49>:1: Sequential.predict_classes (from tensorflow.python.keras.engine.sequential) is deprecated and will be removed after 2021-01-01.\n",
            "Instructions for updating:\n",
            "Please use instead:* `np.argmax(model.predict(x), axis=-1)`,   if your model does multi-class classification   (e.g. if it uses a `softmax` last-layer activation).* `(model.predict(x) > 0.5).astype(\"int32\")`,   if your model does binary classification   (e.g. if it uses a `sigmoid` last-layer activation).\n",
            "WARNING:tensorflow:Model was constructed with shape (None, 46) for input Tensor(\"embedding_input:0\", shape=(None, 46), dtype=float32), but it was called on an input with incompatible shape (None, 40).\n"
          ],
          "name": "stdout"
        }
      ]
    },
    {
      "cell_type": "code",
      "metadata": {
        "id": "VtPW1GhZRQj8",
        "outputId": "7c06a64f-130b-43d4-a5b2-a6abbca59910",
        "colab": {
          "base_uri": "https://localhost:8080/",
          "height": 34
        }
      },
      "source": [
        "print(f\"The accuracy is : { accuracy_score(test_sentiment,predict)*100}%\")"
      ],
      "execution_count": 54,
      "outputs": [
        {
          "output_type": "stream",
          "text": [
            "The accuracy is : 82.06951026856241%\n"
          ],
          "name": "stdout"
        }
      ]
    },
    {
      "cell_type": "markdown",
      "metadata": {
        "id": "XKHBfZRPkMeC"
      },
      "source": [
        "<h3>Confusion Matrix</h3>"
      ]
    },
    {
      "cell_type": "code",
      "metadata": {
        "id": "qLl_5CUESGP5",
        "outputId": "a135b840-f5d9-40f5-b460-95a1b22e6eaf",
        "colab": {
          "base_uri": "https://localhost:8080/",
          "height": 282
        }
      },
      "source": [
        "sns.heatmap(confusion_matrix(test_sentiment,predict),annot=True, fmt=\"d\")"
      ],
      "execution_count": 61,
      "outputs": [
        {
          "output_type": "execute_result",
          "data": {
            "text/plain": [
              "<matplotlib.axes._subplots.AxesSubplot at 0x7f5acae32860>"
            ]
          },
          "metadata": {
            "tags": []
          },
          "execution_count": 61
        },
        {
          "output_type": "display_data",
          "data": {
            "image/png": "[encoded data removed]",
            "text/plain": [
              "<Figure size 432x288 with 2 Axes>"
            ]
          },
          "metadata": {
            "tags": [],
            "needs_background": "light"
          }
        }
      ]
    },
    {
      "cell_type": "markdown",
      "metadata": {
        "id": "xaF0K1Qgk4CZ"
      },
      "source": [
        "Where,\n",
        "*   0 - Neutral\n",
        "*   1 - Negative\n",
        "*   2 - Positive\n",
        "\n",
        "\n"
      ]
    }
  ]
}