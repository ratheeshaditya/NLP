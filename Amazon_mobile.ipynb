{
  "nbformat": 4,
  "nbformat_minor": 0,
  "metadata": {
    "colab": {
      "name": "Amazon mobile.ipynb",
      "provenance": [],
      "collapsed_sections": []
    },
    "kernelspec": {
      "name": "python3",
      "display_name": "Python 3"
    }
  },
  "cells": [
    {
      "cell_type": "markdown",
      "metadata": {
        "id": "8PSmnOxI73sG"
      },
      "source": [
        "Sentiment Analysis for 'Amazon Mobile Unlocked' dataset.\n",
        "*   Importing the required library's\n",
        "*   Cleaning the data\n",
        "*   Tokenizing the text\n",
        "*   Converting the text to integer sequence\n",
        "*   Building the model\n",
        "*   Making predictions\n",
        "*   Calculating score , classification report \n",
        "\n",
        "\n",
        "\n",
        "\n",
        "\n",
        "\n"
      ]
    },
    {
      "cell_type": "code",
      "metadata": {
        "id": "MgMNGb9ENxEU"
      },
      "source": [
        "import os\n",
        "import pandas as pd\n",
        "from tensorflow.keras.layers import Embedding\n",
        "from tensorflow.keras.models import Sequential\n",
        "import pickle\n",
        "from tensorflow.keras.preprocessing.text import Tokenizer\n",
        "import re\n",
        "from tensorflow.keras import layers as L\n",
        "from sklearn.model_selection import StratifiedKFold\n",
        "from tensorflow.keras.losses import SparseCategoricalCrossentropy\n",
        "from sklearn.metrics import accuracy_score\n",
        "from sklearn.metrics import classification_report\n",
        "from tensorflow.keras.preprocessing.sequence import pad_sequences\n",
        "from sklearn.model_selection import train_test_split\n",
        "from sklearn.metrics import confusion_matrix\n",
        "from tensorflow.keras.models import load_model\n",
        "import nltk\n",
        "import tensorflow as tf\n",
        "from tqdm import tqdm\n",
        "\n",
        "from nltk.corpus import stopwords\n",
        "import matplotlib.pyplot as plt\n",
        "import seaborn as sns"
      ],
      "execution_count": 154,
      "outputs": []
    },
    {
      "cell_type": "code",
      "metadata": {
        "id": "BuhtBf44Vl2N",
        "outputId": "c4f9fbbc-c604-475e-b657-683566ac0a60",
        "colab": {
          "base_uri": "https://localhost:8080/",
          "height": 68
        }
      },
      "source": [
        "nltk.download('stopwords')\n"
      ],
      "execution_count": 2,
      "outputs": [
        {
          "output_type": "stream",
          "text": [
            "[nltk_data] Downloading package stopwords to /root/nltk_data...\n",
            "[nltk_data]   Unzipping corpora/stopwords.zip.\n"
          ],
          "name": "stdout"
        },
        {
          "output_type": "execute_result",
          "data": {
            "text/plain": [
              "True"
            ]
          },
          "metadata": {
            "tags": []
          },
          "execution_count": 2
        }
      ]
    },
    {
      "cell_type": "code",
      "metadata": {
        "id": "VgjABM2mOFFJ"
      },
      "source": [
        "os.chdir(\"/content/drive/My Drive/Python/Practice/Amazon mobile\")"
      ],
      "execution_count": 3,
      "outputs": []
    },
    {
      "cell_type": "code",
      "metadata": {
        "id": "5mxnOiVGOHIG",
        "outputId": "47733839-37fd-4891-e429-9a4e3d0f3551",
        "colab": {
          "base_uri": "https://localhost:8080/",
          "height": 34
        }
      },
      "source": [
        "ls"
      ],
      "execution_count": 131,
      "outputs": [
        {
          "output_type": "stream",
          "text": [
            "'Amazon mobile.ipynb'   Amazon_Unlocked_Mobile.csv\n"
          ],
          "name": "stdout"
        }
      ]
    },
    {
      "cell_type": "code",
      "metadata": {
        "id": "LvThUbC0PG-o"
      },
      "source": [
        "data = pd.read_csv(\"Amazon_Unlocked_Mobile.csv\")"
      ],
      "execution_count": 132,
      "outputs": []
    },
    {
      "cell_type": "code",
      "metadata": {
        "id": "zTh_znF9PKaG",
        "outputId": "dae2c8f4-e6cf-474b-c8f3-4e5ef4477d61",
        "colab": {
          "base_uri": "https://localhost:8080/",
          "height": 306
        }
      },
      "source": [
        "data.head()"
      ],
      "execution_count": 133,
      "outputs": [
        {
          "output_type": "execute_result",
          "data": {
            "text/html": [
              "<div>\n",
              "<style scoped>\n",
              "    .dataframe tbody tr th:only-of-type {\n",
              "        vertical-align: middle;\n",
              "    }\n",
              "\n",
              "    .dataframe tbody tr th {\n",
              "        vertical-align: top;\n",
              "    }\n",
              "\n",
              "    .dataframe thead th {\n",
              "        text-align: right;\n",
              "    }\n",
              "</style>\n",
              "<table border=\"1\" class=\"dataframe\">\n",
              "  <thead>\n",
              "    <tr style=\"text-align: right;\">\n",
              "      <th></th>\n",
              "      <th>Product Name</th>\n",
              "      <th>Brand Name</th>\n",
              "      <th>Price</th>\n",
              "      <th>Rating</th>\n",
              "      <th>Reviews</th>\n",
              "      <th>Review Votes</th>\n",
              "    </tr>\n",
              "  </thead>\n",
              "  <tbody>\n",
              "    <tr>\n",
              "      <th>0</th>\n",
              "      <td>\"CLEAR CLEAN ESN\" Sprint EPIC 4G Galaxy SPH-D7...</td>\n",
              "      <td>Samsung</td>\n",
              "      <td>199.99</td>\n",
              "      <td>5</td>\n",
              "      <td>I feel so LUCKY to have found this used (phone...</td>\n",
              "      <td>1.0</td>\n",
              "    </tr>\n",
              "    <tr>\n",
              "      <th>1</th>\n",
              "      <td>\"CLEAR CLEAN ESN\" Sprint EPIC 4G Galaxy SPH-D7...</td>\n",
              "      <td>Samsung</td>\n",
              "      <td>199.99</td>\n",
              "      <td>4</td>\n",
              "      <td>nice phone, nice up grade from my pantach revu...</td>\n",
              "      <td>0.0</td>\n",
              "    </tr>\n",
              "    <tr>\n",
              "      <th>2</th>\n",
              "      <td>\"CLEAR CLEAN ESN\" Sprint EPIC 4G Galaxy SPH-D7...</td>\n",
              "      <td>Samsung</td>\n",
              "      <td>199.99</td>\n",
              "      <td>5</td>\n",
              "      <td>Very pleased</td>\n",
              "      <td>0.0</td>\n",
              "    </tr>\n",
              "    <tr>\n",
              "      <th>3</th>\n",
              "      <td>\"CLEAR CLEAN ESN\" Sprint EPIC 4G Galaxy SPH-D7...</td>\n",
              "      <td>Samsung</td>\n",
              "      <td>199.99</td>\n",
              "      <td>4</td>\n",
              "      <td>It works good but it goes slow sometimes but i...</td>\n",
              "      <td>0.0</td>\n",
              "    </tr>\n",
              "    <tr>\n",
              "      <th>4</th>\n",
              "      <td>\"CLEAR CLEAN ESN\" Sprint EPIC 4G Galaxy SPH-D7...</td>\n",
              "      <td>Samsung</td>\n",
              "      <td>199.99</td>\n",
              "      <td>4</td>\n",
              "      <td>Great phone to replace my lost phone. The only...</td>\n",
              "      <td>0.0</td>\n",
              "    </tr>\n",
              "  </tbody>\n",
              "</table>\n",
              "</div>"
            ],
            "text/plain": [
              "                                        Product Name  ... Review Votes\n",
              "0  \"CLEAR CLEAN ESN\" Sprint EPIC 4G Galaxy SPH-D7...  ...          1.0\n",
              "1  \"CLEAR CLEAN ESN\" Sprint EPIC 4G Galaxy SPH-D7...  ...          0.0\n",
              "2  \"CLEAR CLEAN ESN\" Sprint EPIC 4G Galaxy SPH-D7...  ...          0.0\n",
              "3  \"CLEAR CLEAN ESN\" Sprint EPIC 4G Galaxy SPH-D7...  ...          0.0\n",
              "4  \"CLEAR CLEAN ESN\" Sprint EPIC 4G Galaxy SPH-D7...  ...          0.0\n",
              "\n",
              "[5 rows x 6 columns]"
            ]
          },
          "metadata": {
            "tags": []
          },
          "execution_count": 133
        }
      ]
    },
    {
      "cell_type": "markdown",
      "metadata": {
        "id": "zfun3D7x8mIv"
      },
      "source": [
        "Since we are dealing a highly imbalanced dataset populated with mainly positive reviews , we will balance the dataset with equal number of reviews on both the classes"
      ]
    },
    {
      "cell_type": "code",
      "metadata": {
        "id": "85rhKF86PNYm",
        "outputId": "e58ead7a-2beb-4a70-9cda-262063da7094",
        "colab": {
          "base_uri": "https://localhost:8080/",
          "height": 366
        }
      },
      "source": [
        "plt.title(\"Total distribution of reviews\")\n",
        "sns.set_style(\"dark\")\n",
        "sns.countplot(data['Rating'])"
      ],
      "execution_count": 134,
      "outputs": [
        {
          "output_type": "stream",
          "text": [
            "/usr/local/lib/python3.6/dist-packages/seaborn/_decorators.py:43: FutureWarning: Pass the following variable as a keyword arg: x. From version 0.12, the only valid positional argument will be `data`, and passing other arguments without an explicit keyword will result in an error or misinterpretation.\n",
            "  FutureWarning\n"
          ],
          "name": "stderr"
        },
        {
          "output_type": "execute_result",
          "data": {
            "text/plain": [
              "<matplotlib.axes._subplots.AxesSubplot at 0x7fee487396d8>"
            ]
          },
          "metadata": {
            "tags": []
          },
          "execution_count": 134
        },
        {
          "output_type": "display_data",
          "data": {
            "image/png": "[encoded data removed]",
            "text/plain": [
              "<Figure size 432x288 with 1 Axes>"
            ]
          },
          "metadata": {
            "tags": []
          }
        }
      ]
    },
    {
      "cell_type": "markdown",
      "metadata": {
        "id": "vI5pPrLk90CM"
      },
      "source": [
        "Making this a binary classification problem"
      ]
    },
    {
      "cell_type": "code",
      "metadata": {
        "id": "6hRXAqyLPQMm"
      },
      "source": [
        "def process_review(review): \n",
        "  return 1 if review>=3 else 0 "
      ],
      "execution_count": 135,
      "outputs": []
    },
    {
      "cell_type": "code",
      "metadata": {
        "id": "InysMUtpQZ9H"
      },
      "source": [
        "new_df = data[['Rating','Reviews']]"
      ],
      "execution_count": 136,
      "outputs": []
    },
    {
      "cell_type": "code",
      "metadata": {
        "id": "KCMDK6x4Qfnm"
      },
      "source": [
        "new_df = new_df.sample(frac=1).reset_index(drop=True)"
      ],
      "execution_count": 137,
      "outputs": []
    },
    {
      "cell_type": "code",
      "metadata": {
        "id": "JNwWDVIJQipW",
        "outputId": "1eefeacb-2f17-4919-a084-0e9d4d130da9",
        "colab": {
          "base_uri": "https://localhost:8080/",
          "height": 204
        }
      },
      "source": [
        "new_df.head()"
      ],
      "execution_count": 138,
      "outputs": [
        {
          "output_type": "execute_result",
          "data": {
            "text/html": [
              "<div>\n",
              "<style scoped>\n",
              "    .dataframe tbody tr th:only-of-type {\n",
              "        vertical-align: middle;\n",
              "    }\n",
              "\n",
              "    .dataframe tbody tr th {\n",
              "        vertical-align: top;\n",
              "    }\n",
              "\n",
              "    .dataframe thead th {\n",
              "        text-align: right;\n",
              "    }\n",
              "</style>\n",
              "<table border=\"1\" class=\"dataframe\">\n",
              "  <thead>\n",
              "    <tr style=\"text-align: right;\">\n",
              "      <th></th>\n",
              "      <th>Rating</th>\n",
              "      <th>Reviews</th>\n",
              "    </tr>\n",
              "  </thead>\n",
              "  <tbody>\n",
              "    <tr>\n",
              "      <th>0</th>\n",
              "      <td>5</td>\n",
              "      <td>A lot cheaper same quality</td>\n",
              "    </tr>\n",
              "    <tr>\n",
              "      <th>1</th>\n",
              "      <td>5</td>\n",
              "      <td>My husband loves this phone! He has not had on...</td>\n",
              "    </tr>\n",
              "    <tr>\n",
              "      <th>2</th>\n",
              "      <td>2</td>\n",
              "      <td>I like how it looks but for browsing is a prob...</td>\n",
              "    </tr>\n",
              "    <tr>\n",
              "      <th>3</th>\n",
              "      <td>5</td>\n",
              "      <td>best phone i've ever had</td>\n",
              "    </tr>\n",
              "    <tr>\n",
              "      <th>4</th>\n",
              "      <td>5</td>\n",
              "      <td>super super nice phone</td>\n",
              "    </tr>\n",
              "  </tbody>\n",
              "</table>\n",
              "</div>"
            ],
            "text/plain": [
              "   Rating                                            Reviews\n",
              "0       5                         A lot cheaper same quality\n",
              "1       5  My husband loves this phone! He has not had on...\n",
              "2       2  I like how it looks but for browsing is a prob...\n",
              "3       5                           best phone i've ever had\n",
              "4       5                             super super nice phone"
            ]
          },
          "metadata": {
            "tags": []
          },
          "execution_count": 138
        }
      ]
    },
    {
      "cell_type": "code",
      "metadata": {
        "id": "uoOEywqDQu_e"
      },
      "source": [
        "new_df['new_rating'] = new_df['Rating'].apply(process_review)"
      ],
      "execution_count": 139,
      "outputs": []
    },
    {
      "cell_type": "code",
      "metadata": {
        "id": "HDdgQMTfQ4YW",
        "outputId": "36d42aa7-c4b8-4710-ee37-2ae8b0162950",
        "colab": {
          "base_uri": "https://localhost:8080/",
          "height": 367
        }
      },
      "source": [
        "plt.title(\"Total distribution of Rating\")\n",
        "sns.countplot(new_df['new_rating'])"
      ],
      "execution_count": 140,
      "outputs": [
        {
          "output_type": "stream",
          "text": [
            "/usr/local/lib/python3.6/dist-packages/seaborn/_decorators.py:43: FutureWarning: Pass the following variable as a keyword arg: x. From version 0.12, the only valid positional argument will be `data`, and passing other arguments without an explicit keyword will result in an error or misinterpretation.\n",
            "  FutureWarning\n"
          ],
          "name": "stderr"
        },
        {
          "output_type": "execute_result",
          "data": {
            "text/plain": [
              "<matplotlib.axes._subplots.AxesSubplot at 0x7fee46beb9b0>"
            ]
          },
          "metadata": {
            "tags": []
          },
          "execution_count": 140
        },
        {
          "output_type": "display_data",
          "data": {
            "image/png": "[encoded data removed]",
            "text/plain": [
              "<Figure size 432x288 with 1 Axes>"
            ]
          },
          "metadata": {
            "tags": []
          }
        }
      ]
    },
    {
      "cell_type": "code",
      "metadata": {
        "id": "Ov4FeNFKR1ZJ"
      },
      "source": [
        "new_df.drop(['Rating'],axis=1,inplace=True)"
      ],
      "execution_count": 141,
      "outputs": []
    },
    {
      "cell_type": "code",
      "metadata": {
        "id": "LRM31hzFQ_j9",
        "outputId": "28f97141-3c75-4caf-e339-8f39ad6eaf90",
        "colab": {
          "base_uri": "https://localhost:8080/",
          "height": 68
        }
      },
      "source": [
        "new_df['new_rating'].value_counts()"
      ],
      "execution_count": 142,
      "outputs": [
        {
          "output_type": "execute_result",
          "data": {
            "text/plain": [
              "1    316762\n",
              "0     97078\n",
              "Name: new_rating, dtype: int64"
            ]
          },
          "metadata": {
            "tags": []
          },
          "execution_count": 142
        }
      ]
    },
    {
      "cell_type": "markdown",
      "metadata": {
        "id": "3KFhIr2687PA"
      },
      "source": [
        "<h2>Balancing the dataset</h2>\n"
      ]
    },
    {
      "cell_type": "code",
      "metadata": {
        "id": "nRNerlXqRNiN"
      },
      "source": [
        "positive_reviews = new_df.loc[new_df['new_rating']==1][:60000]\n",
        "negative_reviews = new_df.loc[new_df['new_rating']==0][:60000]"
      ],
      "execution_count": 143,
      "outputs": []
    },
    {
      "cell_type": "code",
      "metadata": {
        "id": "-DTZgrzXZVP8"
      },
      "source": [
        "final_df = pd.concat([positive_reviews,negative_reviews])"
      ],
      "execution_count": 144,
      "outputs": []
    },
    {
      "cell_type": "code",
      "metadata": {
        "id": "FgEfmfoiTZE5",
        "outputId": "3cae6c17-9efa-42cf-a471-b2ec3c823fbe",
        "colab": {
          "base_uri": "https://localhost:8080/",
          "height": 204
        }
      },
      "source": [
        "final_df.head()"
      ],
      "execution_count": 146,
      "outputs": [
        {
          "output_type": "execute_result",
          "data": {
            "text/html": [
              "<div>\n",
              "<style scoped>\n",
              "    .dataframe tbody tr th:only-of-type {\n",
              "        vertical-align: middle;\n",
              "    }\n",
              "\n",
              "    .dataframe tbody tr th {\n",
              "        vertical-align: top;\n",
              "    }\n",
              "\n",
              "    .dataframe thead th {\n",
              "        text-align: right;\n",
              "    }\n",
              "</style>\n",
              "<table border=\"1\" class=\"dataframe\">\n",
              "  <thead>\n",
              "    <tr style=\"text-align: right;\">\n",
              "      <th></th>\n",
              "      <th>Reviews</th>\n",
              "      <th>new_rating</th>\n",
              "    </tr>\n",
              "  </thead>\n",
              "  <tbody>\n",
              "    <tr>\n",
              "      <th>0</th>\n",
              "      <td>A lot cheaper same quality</td>\n",
              "      <td>1</td>\n",
              "    </tr>\n",
              "    <tr>\n",
              "      <th>1</th>\n",
              "      <td>My husband loves this phone! He has not had on...</td>\n",
              "      <td>1</td>\n",
              "    </tr>\n",
              "    <tr>\n",
              "      <th>3</th>\n",
              "      <td>best phone i've ever had</td>\n",
              "      <td>1</td>\n",
              "    </tr>\n",
              "    <tr>\n",
              "      <th>4</th>\n",
              "      <td>super super nice phone</td>\n",
              "      <td>1</td>\n",
              "    </tr>\n",
              "    <tr>\n",
              "      <th>5</th>\n",
              "      <td>Phone is just what I expected and in good cond...</td>\n",
              "      <td>1</td>\n",
              "    </tr>\n",
              "  </tbody>\n",
              "</table>\n",
              "</div>"
            ],
            "text/plain": [
              "                                             Reviews  new_rating\n",
              "0                         A lot cheaper same quality           1\n",
              "1  My husband loves this phone! He has not had on...           1\n",
              "3                           best phone i've ever had           1\n",
              "4                             super super nice phone           1\n",
              "5  Phone is just what I expected and in good cond...           1"
            ]
          },
          "metadata": {
            "tags": []
          },
          "execution_count": 146
        }
      ]
    },
    {
      "cell_type": "code",
      "metadata": {
        "id": "ioahPIUIRoMW",
        "outputId": "3869ef16-176f-4675-dd41-41ace52a448b",
        "colab": {
          "base_uri": "https://localhost:8080/",
          "height": 68
        }
      },
      "source": [
        "final_df['new_rating'].value_counts()"
      ],
      "execution_count": 147,
      "outputs": [
        {
          "output_type": "execute_result",
          "data": {
            "text/plain": [
              "1    60000\n",
              "0    60000\n",
              "Name: new_rating, dtype: int64"
            ]
          },
          "metadata": {
            "tags": []
          },
          "execution_count": 147
        }
      ]
    },
    {
      "cell_type": "code",
      "metadata": {
        "id": "oPdnDlbBTk4_"
      },
      "source": [
        "final_df = final_df.sample(frac=1).reset_index(drop=True)"
      ],
      "execution_count": 148,
      "outputs": []
    },
    {
      "cell_type": "markdown",
      "metadata": {
        "id": "HdD7zybc9MAd"
      },
      "source": [
        "<h2>Cleaning the dataset</h2>"
      ]
    },
    {
      "cell_type": "code",
      "metadata": {
        "id": "ooHu8wtwT_nh"
      },
      "source": [
        "def process_text(text):\n",
        "  new_text = str(text)\n",
        "  new_text = new_text.lower()\n",
        "  new_text = re.sub(\"[^a-zA-Z]\",\" \",new_text)\n",
        "  new_text = new_text.split(\" \")\n",
        "  new_text = \" \".join([word for word in new_text if word not in stopwords.words(\"english\")])\n",
        "  return new_text"
      ],
      "execution_count": 27,
      "outputs": []
    },
    {
      "cell_type": "code",
      "metadata": {
        "id": "Oik1tepHWEgX"
      },
      "source": [
        "tqdm.pandas()"
      ],
      "execution_count": 16,
      "outputs": []
    },
    {
      "cell_type": "code",
      "metadata": {
        "id": "C6mTDQoAWN0r",
        "outputId": "032db89f-c1c1-4dc5-bede-340b863a2696",
        "colab": {
          "base_uri": "https://localhost:8080/",
          "height": 34
        }
      },
      "source": [
        "final_df['final_review'] = final_df['Reviews'].progress_apply(process_text)"
      ],
      "execution_count": 151,
      "outputs": [
        {
          "output_type": "stream",
          "text": [
            "100%|██████████| 120000/120000 [10:48<00:00, 185.12it/s]\n"
          ],
          "name": "stderr"
        }
      ]
    },
    {
      "cell_type": "markdown",
      "metadata": {
        "id": "buizmBD3Yzhy"
      },
      "source": [
        "<h2>Tokenizing & Converting to sequence</h2>"
      ]
    },
    {
      "cell_type": "code",
      "metadata": {
        "id": "B7CLqWWoZDxF"
      },
      "source": [
        "reviews = final_df['final_review'].values\n",
        "sentiment = final_df['new_rating'].values"
      ],
      "execution_count": null,
      "outputs": []
    },
    {
      "cell_type": "code",
      "metadata": {
        "id": "zk3Gx-6wZKSj"
      },
      "source": [
        "tokenizer = Tokenizer()"
      ],
      "execution_count": 155,
      "outputs": []
    },
    {
      "cell_type": "code",
      "metadata": {
        "id": "egTVUdLOckn7"
      },
      "source": [
        "tokenizer.fit_on_texts(reviews)"
      ],
      "execution_count": 156,
      "outputs": []
    },
    {
      "cell_type": "code",
      "metadata": {
        "id": "4ysovTeGcmTS",
        "outputId": "f82f8c14-3b26-4dce-a422-4940e974245a",
        "colab": {
          "base_uri": "https://localhost:8080/",
          "height": 34
        }
      },
      "source": [
        "print(f\"Total number of words : { len(tokenizer.index_word)+1}\")"
      ],
      "execution_count": 156,
      "outputs": [
        {
          "output_type": "stream",
          "text": [
            "Total number of words : 38239\n"
          ],
          "name": "stdout"
        }
      ]
    },
    {
      "cell_type": "code",
      "metadata": {
        "id": "BdCDiP3RcqX7"
      },
      "source": [
        "sequence_text = tokenizer.texts_to_sequences(reviews)"
      ],
      "execution_count": 159,
      "outputs": []
    },
    {
      "cell_type": "code",
      "metadata": {
        "id": "2zXBTTxEczoo"
      },
      "source": [
        "sequence_text = pad_sequences(sequence_text , padding='post')"
      ],
      "execution_count": 160,
      "outputs": []
    },
    {
      "cell_type": "markdown",
      "metadata": {
        "id": "_IPGB4f49ZkS"
      },
      "source": [
        "<h2>Building the model</h2>"
      ]
    },
    {
      "cell_type": "code",
      "metadata": {
        "id": "7fc10KNfc7jB"
      },
      "source": [
        "x_train , x_test , y_train ,y_test = train_test_split(sequence_text,sentiment,\n",
        "                                                      test_size=0.2,random_state=11)"
      ],
      "execution_count": 161,
      "outputs": []
    },
    {
      "cell_type": "code",
      "metadata": {
        "id": "ATuTiaU_c-ZB",
        "outputId": "b75f12d1-9871-431b-d972-c593fd0a77e5",
        "colab": {
          "base_uri": "https://localhost:8080/",
          "height": 119
        }
      },
      "source": [
        "print(f\"\"\"\n",
        "X Train :{x_train.shape}\n",
        "X TEST : {x_test.shape}\n",
        "Y TRAIN : {y_train.shape}\n",
        "Y TEST  : {y_test.shape}\n",
        "\"\"\")"
      ],
      "execution_count": 162,
      "outputs": [
        {
          "output_type": "stream",
          "text": [
            "\n",
            "X Train :(96000, 1557)\n",
            "X TEST : (24000, 1557)\n",
            "Y TRAIN : (96000,)\n",
            "Y TEST  : (24000,)\n",
            "\n"
          ],
          "name": "stdout"
        }
      ]
    },
    {
      "cell_type": "code",
      "metadata": {
        "id": "i73ShuMOdAny"
      },
      "source": [
        "VOCAB_SIZE = len(tokenizer.word_index)+1\n",
        "EMBEDDING_VEC = 30"
      ],
      "execution_count": 163,
      "outputs": []
    },
    {
      "cell_type": "code",
      "metadata": {
        "id": "ob5F59tgdD2Z"
      },
      "source": [
        "model = tf.keras.Sequential([\n",
        "L.Embedding(VOCAB_SIZE,EMBEDDING_VEC, input_length=x_train.shape[1]),\n",
        "L.Bidirectional(L.LSTM(128,return_sequences=True)),\n",
        "L.GlobalMaxPool1D(),\n",
        "L.Dropout(0.4),\n",
        "L.Dense(128, activation=\"relu\"),\n",
        "L.Dropout(0.4),\n",
        "L.Dense(2)\n",
        "])\n",
        "model.compile(loss=SparseCategoricalCrossentropy(from_logits=True),\n",
        "          optimizer='adam',metrics=['accuracy']\n",
        "          )"
      ],
      "execution_count": 177,
      "outputs": []
    },
    {
      "cell_type": "code",
      "metadata": {
        "id": "Jnyds15ydWOU",
        "outputId": "d8fdce5c-aec5-4126-b9ae-8a5afad2f256",
        "colab": {
          "base_uri": "https://localhost:8080/",
          "height": 391
        }
      },
      "source": [
        "model.summary()"
      ],
      "execution_count": 178,
      "outputs": [
        {
          "output_type": "stream",
          "text": [
            "Model: \"sequential_4\"\n",
            "_________________________________________________________________\n",
            "Layer (type)                 Output Shape              Param #   \n",
            "=================================================================\n",
            "embedding_4 (Embedding)      (None, 1557, 30)          1147170   \n",
            "_________________________________________________________________\n",
            "bidirectional_4 (Bidirection (None, 1557, 256)         162816    \n",
            "_________________________________________________________________\n",
            "global_max_pooling1d_4 (Glob (None, 256)               0         \n",
            "_________________________________________________________________\n",
            "dropout_8 (Dropout)          (None, 256)               0         \n",
            "_________________________________________________________________\n",
            "dense_8 (Dense)              (None, 128)               32896     \n",
            "_________________________________________________________________\n",
            "dropout_9 (Dropout)          (None, 128)               0         \n",
            "_________________________________________________________________\n",
            "dense_9 (Dense)              (None, 2)                 258       \n",
            "=================================================================\n",
            "Total params: 1,343,140\n",
            "Trainable params: 1,343,140\n",
            "Non-trainable params: 0\n",
            "_________________________________________________________________\n"
          ],
          "name": "stdout"
        }
      ]
    },
    {
      "cell_type": "code",
      "metadata": {
        "id": "LIFfgbRidW5C",
        "outputId": "49347331-cade-4ec5-bc19-45e41ed2973d",
        "colab": {
          "base_uri": "https://localhost:8080/",
          "height": 122
        }
      },
      "source": [
        "model.fit(x_train,y_train , validation_data=(x_test,y_test),batch_size=32\n",
        "          ,epochs=2)"
      ],
      "execution_count": 181,
      "outputs": [
        {
          "output_type": "stream",
          "text": [
            "Epoch 1/2\n",
            "3000/3000 [==============================] - 8487s 3s/step - loss: 0.2883 - accuracy: 0.8821 - val_loss: 0.2431 - val_accuracy: 0.9072\n",
            "Epoch 2/2\n",
            "3000/3000 [==============================] - 8504s 3s/step - loss: 0.2137 - accuracy: 0.9210 - val_loss: 0.2252 - val_accuracy: 0.9139\n"
          ],
          "name": "stdout"
        },
        {
          "output_type": "execute_result",
          "data": {
            "text/plain": [
              "<tensorflow.python.keras.callbacks.History at 0x7fee3ed136a0>"
            ]
          },
          "metadata": {
            "tags": []
          },
          "execution_count": 181
        }
      ]
    },
    {
      "cell_type": "code",
      "metadata": {
        "id": "kSt08FCYd1zc"
      },
      "source": [
        "model.save(\"weights.h5\")"
      ],
      "execution_count": 182,
      "outputs": []
    },
    {
      "cell_type": "markdown",
      "metadata": {
        "id": "bNoLzeTQ9iGa"
      },
      "source": [
        "<h2>Prediction on Test data</h2>\n",
        "Predicting on the remaining unseen data"
      ]
    },
    {
      "cell_type": "code",
      "metadata": {
        "id": "0ySeR0qQGTMF"
      },
      "source": [
        "validation_positive_reviews = new_df.loc[new_df['new_rating']==1][60000:]\n",
        "validation_negative_reviews = new_df.loc[new_df['new_rating']==0][60000:]"
      ],
      "execution_count": 183,
      "outputs": []
    },
    {
      "cell_type": "code",
      "metadata": {
        "id": "uKt8IkaTabzD"
      },
      "source": [
        "validation_data = pd.concat([validation_positive_reviews,validation_negative_reviews])"
      ],
      "execution_count": 184,
      "outputs": []
    },
    {
      "cell_type": "code",
      "metadata": {
        "id": "qnLCoMlSH4YL",
        "outputId": "6634757b-bcb9-4618-a546-b76ede4c13ab",
        "colab": {
          "base_uri": "https://localhost:8080/",
          "height": 204
        }
      },
      "source": [
        "validation_data.head()"
      ],
      "execution_count": 24,
      "outputs": [
        {
          "output_type": "execute_result",
          "data": {
            "text/html": [
              "<div>\n",
              "<style scoped>\n",
              "    .dataframe tbody tr th:only-of-type {\n",
              "        vertical-align: middle;\n",
              "    }\n",
              "\n",
              "    .dataframe tbody tr th {\n",
              "        vertical-align: top;\n",
              "    }\n",
              "\n",
              "    .dataframe thead th {\n",
              "        text-align: right;\n",
              "    }\n",
              "</style>\n",
              "<table border=\"1\" class=\"dataframe\">\n",
              "  <thead>\n",
              "    <tr style=\"text-align: right;\">\n",
              "      <th></th>\n",
              "      <th>Reviews</th>\n",
              "      <th>new_rating</th>\n",
              "    </tr>\n",
              "  </thead>\n",
              "  <tbody>\n",
              "    <tr>\n",
              "      <th>0</th>\n",
              "      <td>great phone</td>\n",
              "      <td>1</td>\n",
              "    </tr>\n",
              "    <tr>\n",
              "      <th>1</th>\n",
              "      <td>I was excited to have gotten this phone in spr...</td>\n",
              "      <td>1</td>\n",
              "    </tr>\n",
              "    <tr>\n",
              "      <th>2</th>\n",
              "      <td>Thank you!</td>\n",
              "      <td>1</td>\n",
              "    </tr>\n",
              "    <tr>\n",
              "      <th>3</th>\n",
              "      <td>EXCELENTE</td>\n",
              "      <td>1</td>\n",
              "    </tr>\n",
              "    <tr>\n",
              "      <th>4</th>\n",
              "      <td>Simple and straight forward. Easy to use. Grea...</td>\n",
              "      <td>1</td>\n",
              "    </tr>\n",
              "  </tbody>\n",
              "</table>\n",
              "</div>"
            ],
            "text/plain": [
              "                                             Reviews  new_rating\n",
              "0                                        great phone           1\n",
              "1  I was excited to have gotten this phone in spr...           1\n",
              "2                                         Thank you!           1\n",
              "3                                          EXCELENTE           1\n",
              "4  Simple and straight forward. Easy to use. Grea...           1"
            ]
          },
          "metadata": {
            "tags": []
          },
          "execution_count": 24
        }
      ]
    },
    {
      "cell_type": "code",
      "metadata": {
        "id": "A-4gDNzW7hUM",
        "outputId": "1c6050ce-7a3c-4a41-d8ab-2614a555e1e3",
        "colab": {
          "base_uri": "https://localhost:8080/",
          "height": 68
        }
      },
      "source": [
        "validation_data['new_rating'].value_counts()"
      ],
      "execution_count": 151,
      "outputs": [
        {
          "output_type": "execute_result",
          "data": {
            "text/plain": [
              "1    256762\n",
              "0     37078\n",
              "Name: new_rating, dtype: int64"
            ]
          },
          "metadata": {
            "tags": []
          },
          "execution_count": 151
        }
      ]
    },
    {
      "cell_type": "code",
      "metadata": {
        "id": "uZih5S4b7Wkn",
        "outputId": "02fc0f94-d8c7-42b0-95b1-2f168f12f670",
        "colab": {
          "base_uri": "https://localhost:8080/",
          "height": 351
        }
      },
      "source": [
        "sns.countplot(validation_data['new_rating'])"
      ],
      "execution_count": 150,
      "outputs": [
        {
          "output_type": "stream",
          "text": [
            "/usr/local/lib/python3.6/dist-packages/seaborn/_decorators.py:43: FutureWarning: Pass the following variable as a keyword arg: x. From version 0.12, the only valid positional argument will be `data`, and passing other arguments without an explicit keyword will result in an error or misinterpretation.\n",
            "  FutureWarning\n"
          ],
          "name": "stderr"
        },
        {
          "output_type": "execute_result",
          "data": {
            "text/plain": [
              "<matplotlib.axes._subplots.AxesSubplot at 0x7f6eafd5e8d0>"
            ]
          },
          "metadata": {
            "tags": []
          },
          "execution_count": 150
        },
        {
          "output_type": "display_data",
          "data": {
            "image/png": "[encoded data removed]",
            "text/plain": [
              "<Figure size 432x288 with 1 Axes>"
            ]
          },
          "metadata": {
            "tags": [],
            "needs_background": "light"
          }
        }
      ]
    },
    {
      "cell_type": "code",
      "metadata": {
        "id": "JCJNmhnyHo3t"
      },
      "source": [
        "y_valid = validation_data['new_rating'].values"
      ],
      "execution_count": 25,
      "outputs": []
    },
    {
      "cell_type": "code",
      "metadata": {
        "id": "YIoY4Ed4Iq1f"
      },
      "source": [
        "validation_data['Reviews'] = validation_data['Reviews'].apply(process_text)"
      ],
      "execution_count": 84,
      "outputs": []
    },
    {
      "cell_type": "code",
      "metadata": {
        "id": "hWdxfKkHLKI9"
      },
      "source": [
        "validation_review = validation_data['Reviews'].values"
      ],
      "execution_count": 118,
      "outputs": []
    },
    {
      "cell_type": "code",
      "metadata": {
        "id": "woM7qpgIMo4k"
      },
      "source": [
        "sequence = tokenizer.texts_to_sequences(validation_review)"
      ],
      "execution_count": 127,
      "outputs": []
    },
    {
      "cell_type": "code",
      "metadata": {
        "id": "WZJW20QdJB0Y"
      },
      "source": [
        "sequence = pad_sequences(sequence,padding=\"post\")"
      ],
      "execution_count": 128,
      "outputs": []
    },
    {
      "cell_type": "code",
      "metadata": {
        "id": "BK2kZxOULSYn"
      },
      "source": [
        "predict = model.predict_classes(sequence)"
      ],
      "execution_count": 136,
      "outputs": []
    },
    {
      "cell_type": "markdown",
      "metadata": {
        "id": "QOZ4hi6y-Q1T"
      },
      "source": [
        "<h2>Model prediction report</h2>"
      ]
    },
    {
      "cell_type": "code",
      "metadata": {
        "id": "6ctqqHye8Qfr",
        "outputId": "2486b97f-3909-41ed-cb22-178396644a95",
        "colab": {
          "base_uri": "https://localhost:8080/",
          "height": 34
        }
      },
      "source": [
        "print(f\"The accuracy is : {accuracy_score(y_valid,predict)*100}%\")"
      ],
      "execution_count": 147,
      "outputs": [
        {
          "output_type": "stream",
          "text": [
            "The accuracy is : 91.66553226245576%\n"
          ],
          "name": "stdout"
        }
      ]
    },
    {
      "cell_type": "code",
      "metadata": {
        "id": "sKeKsCBLN_ih",
        "outputId": "eb0fb5b7-7c60-4ee6-d90f-a1be8894b788",
        "colab": {
          "base_uri": "https://localhost:8080/",
          "height": 51
        }
      },
      "source": [
        "print(confusion_matrix(y_valid,predict))"
      ],
      "execution_count": 145,
      "outputs": [
        {
          "output_type": "stream",
          "text": [
            "[[ 33762   3316]\n",
            " [ 21174 235588]]\n"
          ],
          "name": "stdout"
        }
      ]
    },
    {
      "cell_type": "code",
      "metadata": {
        "id": "liMysnB46kM8",
        "outputId": "25e66717-2371-4c9e-cab2-2ffcd17bbf8e",
        "colab": {
          "base_uri": "https://localhost:8080/",
          "height": 170
        }
      },
      "source": [
        "print (classification_report(y_valid,predict))"
      ],
      "execution_count": 155,
      "outputs": [
        {
          "output_type": "stream",
          "text": [
            "              precision    recall  f1-score   support\n",
            "\n",
            "           0       0.61      0.91      0.73     37078\n",
            "           1       0.99      0.92      0.95    256762\n",
            "\n",
            "    accuracy                           0.92    293840\n",
            "   macro avg       0.80      0.91      0.84    293840\n",
            "weighted avg       0.94      0.92      0.92    293840\n",
            "\n"
          ],
          "name": "stdout"
        }
      ]
    }
  ]
}