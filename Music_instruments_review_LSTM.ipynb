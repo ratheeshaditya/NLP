{
  "nbformat": 4,
  "nbformat_minor": 0,
  "metadata": {
    "colab": {
      "name": "Music instruments review LSTM.ipynb",
      "provenance": []
    },
    "kernelspec": {
      "name": "python3",
      "display_name": "Python 3"
    }
  },
  "cells": [
    {
      "cell_type": "markdown",
      "metadata": {
        "id": "BlwT43j8_6rz"
      },
      "source": [
        "<h2>Sentiment Analysis on Musical Instruments Review</h2>\n",
        "<h3>Using LSTM</h3>"
      ]
    },
    {
      "cell_type": "markdown",
      "metadata": {
        "id": "TO1s_5LWAcVE"
      },
      "source": [
        "The data i've used : https://www.kaggle.com/eswarchandt/amazon-music-reviews"
      ]
    },
    {
      "cell_type": "code",
      "metadata": {
        "id": "EOwouCHAzMUb"
      },
      "source": [
        "import os\n",
        "import seaborn as sns\n",
        "import numpy as np\n",
        "import pandas as pd\n",
        "import nltk\n",
        "from collections import Counter\n",
        "from sklearn.metrics import confusion_matrix\n",
        "from string import punctuation\n",
        "from nltk.corpus import stopwords\n",
        "import re\n",
        "from tensorflow.keras.preprocessing.sequence import pad_sequences"
      ],
      "execution_count": 168,
      "outputs": []
    },
    {
      "cell_type": "code",
      "metadata": {
        "id": "ON3Z2RkezO_D"
      },
      "source": [
        "os.chdir(\"/content/drive/My Drive/Python/Practice/Music instrument\")"
      ],
      "execution_count": 2,
      "outputs": []
    },
    {
      "cell_type": "code",
      "metadata": {
        "id": "J1ed9PoBzQXy",
        "outputId": "0a9d2ba6-e468-4683-e97f-fefe5b6a3421",
        "colab": {
          "base_uri": "https://localhost:8080/",
          "height": 51
        }
      },
      "source": [
        "ls"
      ],
      "execution_count": 3,
      "outputs": [
        {
          "output_type": "stream",
          "text": [
            " Musical_instruments_reviews.csv              New_Approach.ipynb\n",
            "'Music instrument Sentiment Analysis.ipynb'\n"
          ],
          "name": "stdout"
        }
      ]
    },
    {
      "cell_type": "code",
      "metadata": {
        "id": "jfcpRFa8zVWK"
      },
      "source": [
        "df = pd.read_csv(\"Musical_instruments_reviews.csv\")"
      ],
      "execution_count": 4,
      "outputs": []
    },
    {
      "cell_type": "code",
      "metadata": {
        "id": "q-f8wAUVzZfj",
        "outputId": "91384285-b75c-40e3-8322-0865b1c0ba8a",
        "colab": {
          "base_uri": "https://localhost:8080/",
          "height": 289
        }
      },
      "source": [
        "df.head()"
      ],
      "execution_count": 5,
      "outputs": [
        {
          "output_type": "execute_result",
          "data": {
            "text/html": [
              "<div>\n",
              "<style scoped>\n",
              "    .dataframe tbody tr th:only-of-type {\n",
              "        vertical-align: middle;\n",
              "    }\n",
              "\n",
              "    .dataframe tbody tr th {\n",
              "        vertical-align: top;\n",
              "    }\n",
              "\n",
              "    .dataframe thead th {\n",
              "        text-align: right;\n",
              "    }\n",
              "</style>\n",
              "<table border=\"1\" class=\"dataframe\">\n",
              "  <thead>\n",
              "    <tr style=\"text-align: right;\">\n",
              "      <th></th>\n",
              "      <th>reviewerID</th>\n",
              "      <th>asin</th>\n",
              "      <th>reviewerName</th>\n",
              "      <th>helpful</th>\n",
              "      <th>reviewText</th>\n",
              "      <th>overall</th>\n",
              "      <th>summary</th>\n",
              "      <th>unixReviewTime</th>\n",
              "      <th>reviewTime</th>\n",
              "    </tr>\n",
              "  </thead>\n",
              "  <tbody>\n",
              "    <tr>\n",
              "      <th>0</th>\n",
              "      <td>A2IBPI20UZIR0U</td>\n",
              "      <td>1384719342</td>\n",
              "      <td>cassandra tu \"Yeah, well, that's just like, u...</td>\n",
              "      <td>[0, 0]</td>\n",
              "      <td>Not much to write about here, but it does exac...</td>\n",
              "      <td>5.0</td>\n",
              "      <td>good</td>\n",
              "      <td>1393545600</td>\n",
              "      <td>02 28, 2014</td>\n",
              "    </tr>\n",
              "    <tr>\n",
              "      <th>1</th>\n",
              "      <td>A14VAT5EAX3D9S</td>\n",
              "      <td>1384719342</td>\n",
              "      <td>Jake</td>\n",
              "      <td>[13, 14]</td>\n",
              "      <td>The product does exactly as it should and is q...</td>\n",
              "      <td>5.0</td>\n",
              "      <td>Jake</td>\n",
              "      <td>1363392000</td>\n",
              "      <td>03 16, 2013</td>\n",
              "    </tr>\n",
              "    <tr>\n",
              "      <th>2</th>\n",
              "      <td>A195EZSQDW3E21</td>\n",
              "      <td>1384719342</td>\n",
              "      <td>Rick Bennette \"Rick Bennette\"</td>\n",
              "      <td>[1, 1]</td>\n",
              "      <td>The primary job of this device is to block the...</td>\n",
              "      <td>5.0</td>\n",
              "      <td>It Does The Job Well</td>\n",
              "      <td>1377648000</td>\n",
              "      <td>08 28, 2013</td>\n",
              "    </tr>\n",
              "    <tr>\n",
              "      <th>3</th>\n",
              "      <td>A2C00NNG1ZQQG2</td>\n",
              "      <td>1384719342</td>\n",
              "      <td>RustyBill \"Sunday Rocker\"</td>\n",
              "      <td>[0, 0]</td>\n",
              "      <td>Nice windscreen protects my MXL mic and preven...</td>\n",
              "      <td>5.0</td>\n",
              "      <td>GOOD WINDSCREEN FOR THE MONEY</td>\n",
              "      <td>1392336000</td>\n",
              "      <td>02 14, 2014</td>\n",
              "    </tr>\n",
              "    <tr>\n",
              "      <th>4</th>\n",
              "      <td>A94QU4C90B1AX</td>\n",
              "      <td>1384719342</td>\n",
              "      <td>SEAN MASLANKA</td>\n",
              "      <td>[0, 0]</td>\n",
              "      <td>This pop filter is great. It looks and perform...</td>\n",
              "      <td>5.0</td>\n",
              "      <td>No more pops when I record my vocals.</td>\n",
              "      <td>1392940800</td>\n",
              "      <td>02 21, 2014</td>\n",
              "    </tr>\n",
              "  </tbody>\n",
              "</table>\n",
              "</div>"
            ],
            "text/plain": [
              "       reviewerID        asin  ... unixReviewTime   reviewTime\n",
              "0  A2IBPI20UZIR0U  1384719342  ...     1393545600  02 28, 2014\n",
              "1  A14VAT5EAX3D9S  1384719342  ...     1363392000  03 16, 2013\n",
              "2  A195EZSQDW3E21  1384719342  ...     1377648000  08 28, 2013\n",
              "3  A2C00NNG1ZQQG2  1384719342  ...     1392336000  02 14, 2014\n",
              "4   A94QU4C90B1AX  1384719342  ...     1392940800  02 21, 2014\n",
              "\n",
              "[5 rows x 9 columns]"
            ]
          },
          "metadata": {
            "tags": []
          },
          "execution_count": 5
        }
      ]
    },
    {
      "cell_type": "code",
      "metadata": {
        "id": "PYa0EGwezZ4D"
      },
      "source": [
        "new_df = df[['reviewText','overall']]"
      ],
      "execution_count": 6,
      "outputs": []
    },
    {
      "cell_type": "code",
      "metadata": {
        "id": "kcrl3lEDzgIL",
        "outputId": "397ce84c-2a0d-44b0-b318-ed1c26a13a9a",
        "colab": {
          "base_uri": "https://localhost:8080/",
          "height": 119
        }
      },
      "source": [
        "new_df['sentiment'] = new_df['overall'].apply(lambda x:1 if x>=3 else 0)"
      ],
      "execution_count": 7,
      "outputs": [
        {
          "output_type": "stream",
          "text": [
            "/usr/local/lib/python3.6/dist-packages/ipykernel_launcher.py:1: SettingWithCopyWarning: \n",
            "A value is trying to be set on a copy of a slice from a DataFrame.\n",
            "Try using .loc[row_indexer,col_indexer] = value instead\n",
            "\n",
            "See the caveats in the documentation: https://pandas.pydata.org/pandas-docs/stable/user_guide/indexing.html#returning-a-view-versus-a-copy\n",
            "  \"\"\"Entry point for launching an IPython kernel.\n"
          ],
          "name": "stderr"
        }
      ]
    },
    {
      "cell_type": "code",
      "metadata": {
        "id": "EMgdC02bzrDM",
        "outputId": "a5ee9387-d0b4-4bcb-c90e-f9553ccd723c",
        "colab": {
          "base_uri": "https://localhost:8080/",
          "height": 350
        }
      },
      "source": [
        "sns.countplot(new_df['sentiment'])"
      ],
      "execution_count": 8,
      "outputs": [
        {
          "output_type": "stream",
          "text": [
            "/usr/local/lib/python3.6/dist-packages/seaborn/_decorators.py:43: FutureWarning: Pass the following variable as a keyword arg: x. From version 0.12, the only valid positional argument will be `data`, and passing other arguments without an explicit keyword will result in an error or misinterpretation.\n",
            "  FutureWarning\n"
          ],
          "name": "stderr"
        },
        {
          "output_type": "execute_result",
          "data": {
            "text/plain": [
              "<matplotlib.axes._subplots.AxesSubplot at 0x7f8976d252e8>"
            ]
          },
          "metadata": {
            "tags": []
          },
          "execution_count": 8
        },
        {
          "output_type": "display_data",
          "data": {
            "image/png": "[encoded data removed]",
            "text/plain": [
              "<Figure size 432x288 with 1 Axes>"
            ]
          },
          "metadata": {
            "tags": [],
            "needs_background": "light"
          }
        }
      ]
    },
    {
      "cell_type": "markdown",
      "metadata": {
        "id": "0vdzHSJvz7IN"
      },
      "source": [
        "Since we are dealing with highly imbalanced dataset we will equalize it"
      ]
    },
    {
      "cell_type": "code",
      "metadata": {
        "id": "LeOmq9oxzrmE",
        "outputId": "04115375-11df-4a4e-cbfb-71b1eb4f03b5",
        "colab": {
          "base_uri": "https://localhost:8080/",
          "height": 68
        }
      },
      "source": [
        "new_df['sentiment'].value_counts()"
      ],
      "execution_count": 9,
      "outputs": [
        {
          "output_type": "execute_result",
          "data": {
            "text/plain": [
              "1    9794\n",
              "0     467\n",
              "Name: sentiment, dtype: int64"
            ]
          },
          "metadata": {
            "tags": []
          },
          "execution_count": 9
        }
      ]
    },
    {
      "cell_type": "markdown",
      "metadata": {
        "id": "VN_v7sJkTbeh"
      },
      "source": [
        "Shuffling the dataset"
      ]
    },
    {
      "cell_type": "code",
      "metadata": {
        "id": "mwZUovnf0CXn"
      },
      "source": [
        "new_df = new_df.sample(frac=1)"
      ],
      "execution_count": 124,
      "outputs": []
    },
    {
      "cell_type": "code",
      "metadata": {
        "id": "G0zvLJm40Lor"
      },
      "source": [
        "positive_reviews = new_df.loc[new_df['sentiment']==1][:500]\n",
        "negative_reviews = new_df.loc[new_df['sentiment']==0][:500]"
      ],
      "execution_count": 125,
      "outputs": []
    },
    {
      "cell_type": "code",
      "metadata": {
        "id": "PHvuCnhp0NBH",
        "outputId": "1204a851-561f-4bc4-ce5a-b7d3b6e3100b",
        "colab": {
          "base_uri": "https://localhost:8080/",
          "height": 34
        }
      },
      "source": [
        "positive_reviews.shape\n",
        "negative_reviews.shape"
      ],
      "execution_count": 12,
      "outputs": [
        {
          "output_type": "execute_result",
          "data": {
            "text/plain": [
              "(467, 3)"
            ]
          },
          "metadata": {
            "tags": []
          },
          "execution_count": 12
        }
      ]
    },
    {
      "cell_type": "code",
      "metadata": {
        "id": "tvB-n7DS0x3V"
      },
      "source": [
        "train_df = pd.concat([positive_reviews,negative_reviews])"
      ],
      "execution_count": 126,
      "outputs": []
    },
    {
      "cell_type": "code",
      "metadata": {
        "id": "Fk_4CZbV032T",
        "outputId": "d52ea0bd-d15a-4e5e-ef92-f575d220d35a",
        "colab": {
          "base_uri": "https://localhost:8080/",
          "height": 34
        }
      },
      "source": [
        "train_df.shape"
      ],
      "execution_count": 210,
      "outputs": [
        {
          "output_type": "execute_result",
          "data": {
            "text/plain": [
              "(967, 3)"
            ]
          },
          "metadata": {
            "tags": []
          },
          "execution_count": 210
        }
      ]
    },
    {
      "cell_type": "code",
      "metadata": {
        "id": "5pdJGTz-1IkG"
      },
      "source": [
        "reviewText = train_df['reviewText'].values\n",
        "sentiment = train_df['sentiment'].values"
      ],
      "execution_count": 14,
      "outputs": []
    },
    {
      "cell_type": "markdown",
      "metadata": {
        "id": "bLq1AxxQShV-"
      },
      "source": [
        "Preprocessing text\n",
        "*   Lower the string\n",
        "*   Removing punctuation or digits\n",
        "\n",
        "\n",
        "\n"
      ]
    },
    {
      "cell_type": "code",
      "metadata": {
        "id": "VyE65HWn1JE-"
      },
      "source": [
        "final_text = []\n",
        "for text in reviewText:\n",
        "  new_text = str(text)\n",
        "  new_text = text.lower()\n",
        "  new_text.strip()\n",
        "  new_text = ''.join([c for c in new_text if c not in punctuation and not c.isdigit()])\n",
        "  final_text.append(new_text)"
      ],
      "execution_count": 140,
      "outputs": []
    },
    {
      "cell_type": "code",
      "metadata": {
        "id": "naheIht05wcV"
      },
      "source": [
        "all_words = []\n",
        "for words in final_text:\n",
        "  split_words = words.split(' ')\n",
        "  for split in split_words:\n",
        "    all_words.append(split)"
      ],
      "execution_count": 227,
      "outputs": []
    },
    {
      "cell_type": "code",
      "metadata": {
        "id": "py4oqxyL6eIt"
      },
      "source": [
        "counts = Counter(all_words)"
      ],
      "execution_count": 142,
      "outputs": []
    },
    {
      "cell_type": "code",
      "metadata": {
        "id": "Wor5vNiz6rI2"
      },
      "source": [
        "vocab = sorted(counts,key=counts.get,reverse=True)"
      ],
      "execution_count": 143,
      "outputs": []
    },
    {
      "cell_type": "markdown",
      "metadata": {
        "id": "POdgf90ESqkQ"
      },
      "source": [
        "Create a vocab to integer & integer to vocab dictionary"
      ]
    },
    {
      "cell_type": "code",
      "metadata": {
        "id": "hmGScjm4-kJe"
      },
      "source": [
        "vocab_to_int = {word:index for index,word in enumerate(counts,1)}"
      ],
      "execution_count": 145,
      "outputs": []
    },
    {
      "cell_type": "code",
      "metadata": {
        "id": "TRn1LV8p7lMy"
      },
      "source": [
        "int_to_vocab = {index:word for index,word in enumerate(counts,1)}"
      ],
      "execution_count": 146,
      "outputs": []
    },
    {
      "cell_type": "code",
      "metadata": {
        "id": "GFwi-1J67usY"
      },
      "source": [
        "encoded_reviews = []\n",
        "for word in final_text:\n",
        "  split_word = word.split(' ')\n",
        "  encoded_reviews.append([vocab_to_int[word] for word in split_word])"
      ],
      "execution_count": 147,
      "outputs": []
    },
    {
      "cell_type": "markdown",
      "metadata": {
        "id": "pEL2J74hTOgD"
      },
      "source": [
        "Converting the set of sentences to sequences of same length so it can be fed to the LSTM"
      ]
    },
    {
      "cell_type": "code",
      "metadata": {
        "id": "PK2wwYht7jQn"
      },
      "source": [
        "seq_len = 500\n",
        "pad_seq = pad_sequences(encoded_reviews,maxlen=seq_len,padding='pre')"
      ],
      "execution_count": 148,
      "outputs": []
    },
    {
      "cell_type": "code",
      "metadata": {
        "id": "L8t-n_dj9oYZ"
      },
      "source": [
        "from sklearn.model_selection import train_test_split"
      ],
      "execution_count": 149,
      "outputs": []
    },
    {
      "cell_type": "code",
      "metadata": {
        "id": "5m-baRZY-CbU"
      },
      "source": [
        "x_train , x_test, y_train , y_test = train_test_split(pad_seq,sentiment,test_size=0.3,random_state=42)"
      ],
      "execution_count": 150,
      "outputs": []
    },
    {
      "cell_type": "code",
      "metadata": {
        "id": "Asyqy82nApA1",
        "outputId": "cfac79e9-4487-46c6-a07a-64ae5d6e9d50",
        "colab": {
          "base_uri": "https://localhost:8080/",
          "height": 119
        }
      },
      "source": [
        "print(f\"\"\"\n",
        "x-train : {x_train.shape}\n",
        "x-test : {x_test.shape}\n",
        "y-train : {y_train.shape}\n",
        "y-test : {y_test.shape}\n",
        "\"\"\")"
      ],
      "execution_count": 151,
      "outputs": [
        {
          "output_type": "stream",
          "text": [
            "\n",
            "x-train : (676, 500)\n",
            "x-test : (291, 500)\n",
            "y-train : (676,)\n",
            "y-test : (291,)\n",
            "\n"
          ],
          "name": "stdout"
        }
      ]
    },
    {
      "cell_type": "code",
      "metadata": {
        "id": "B4wW7y-B-vF5"
      },
      "source": [
        "from tensorflow.keras.layers import Embedding\n",
        "from tensorflow.keras.layers import Dense\n",
        "from tensorflow.keras.layers import LSTM\n",
        "from tensorflow.keras.models import Sequential\n",
        "from tensorflow.keras.layers import Dropout"
      ],
      "execution_count": 173,
      "outputs": []
    },
    {
      "cell_type": "code",
      "metadata": {
        "id": "zyGZkfXl-849"
      },
      "source": [
        "VOCAB_SIZE=8000"
      ],
      "execution_count": 174,
      "outputs": []
    },
    {
      "cell_type": "code",
      "metadata": {
        "id": "gGYZWw66-rsn"
      },
      "source": [
        "embedding_vectors = 100\n",
        "model = Sequential()\n",
        "model.add(Embedding(VOCAB_SIZE,embedding_vectors , input_length=seq_len))\n",
        "model.add(LSTM(100))\n",
        "model.add(Dense(1,activation='sigmoid'))\n",
        "model.compile(loss='binary_crossentropy',optimizer='adam',metrics=['accuracy'])"
      ],
      "execution_count": 175,
      "outputs": []
    },
    {
      "cell_type": "code",
      "metadata": {
        "id": "i5oMijqu-77p",
        "outputId": "f1d8652d-618f-457b-c5f7-21619e8864c5",
        "colab": {
          "base_uri": "https://localhost:8080/",
          "height": 255
        }
      },
      "source": [
        "model.summary()"
      ],
      "execution_count": 176,
      "outputs": [
        {
          "output_type": "stream",
          "text": [
            "Model: \"sequential_8\"\n",
            "_________________________________________________________________\n",
            "Layer (type)                 Output Shape              Param #   \n",
            "=================================================================\n",
            "embedding_7 (Embedding)      (None, 500, 100)          800000    \n",
            "_________________________________________________________________\n",
            "lstm_7 (LSTM)                (None, 100)               80400     \n",
            "_________________________________________________________________\n",
            "dense_7 (Dense)              (None, 1)                 101       \n",
            "=================================================================\n",
            "Total params: 880,501\n",
            "Trainable params: 880,501\n",
            "Non-trainable params: 0\n",
            "_________________________________________________________________\n"
          ],
          "name": "stdout"
        }
      ]
    },
    {
      "cell_type": "code",
      "metadata": {
        "id": "0JRTJa_2_C-h",
        "outputId": "1dcfe9cb-3f18-4642-9bf9-25eb2cc202b2",
        "colab": {
          "base_uri": "https://localhost:8080/",
          "height": 374
        }
      },
      "source": [
        "model.fit(x_train,y_train,validation_data=(x_test,y_test),epochs=10,batch_size=len(pad_seq)//64)"
      ],
      "execution_count": 177,
      "outputs": [
        {
          "output_type": "stream",
          "text": [
            "Epoch 1/10\n",
            "46/46 [==============================] - 15s 318ms/step - loss: 0.7010 - accuracy: 0.5237 - val_loss: 0.6854 - val_accuracy: 0.5670\n",
            "Epoch 2/10\n",
            "46/46 [==============================] - 15s 317ms/step - loss: 0.6059 - accuracy: 0.7885 - val_loss: 0.6526 - val_accuracy: 0.6117\n",
            "Epoch 3/10\n",
            "46/46 [==============================] - 15s 317ms/step - loss: 0.2710 - accuracy: 0.9231 - val_loss: 0.6841 - val_accuracy: 0.6426\n",
            "Epoch 4/10\n",
            "46/46 [==============================] - 15s 317ms/step - loss: 0.0887 - accuracy: 0.9808 - val_loss: 0.8368 - val_accuracy: 0.7010\n",
            "Epoch 5/10\n",
            "46/46 [==============================] - 15s 317ms/step - loss: 0.0268 - accuracy: 0.9941 - val_loss: 0.8717 - val_accuracy: 0.6907\n",
            "Epoch 6/10\n",
            "46/46 [==============================] - 14s 315ms/step - loss: 0.0082 - accuracy: 1.0000 - val_loss: 0.9981 - val_accuracy: 0.6942\n",
            "Epoch 7/10\n",
            "46/46 [==============================] - 15s 317ms/step - loss: 0.0024 - accuracy: 1.0000 - val_loss: 1.1189 - val_accuracy: 0.7182\n",
            "Epoch 8/10\n",
            "46/46 [==============================] - 15s 318ms/step - loss: 0.0015 - accuracy: 1.0000 - val_loss: 1.2206 - val_accuracy: 0.7148\n",
            "Epoch 9/10\n",
            "46/46 [==============================] - 14s 315ms/step - loss: 8.4920e-04 - accuracy: 1.0000 - val_loss: 1.2907 - val_accuracy: 0.7182\n",
            "Epoch 10/10\n",
            "46/46 [==============================] - 15s 318ms/step - loss: 6.2808e-04 - accuracy: 1.0000 - val_loss: 1.3613 - val_accuracy: 0.7285\n"
          ],
          "name": "stdout"
        },
        {
          "output_type": "execute_result",
          "data": {
            "text/plain": [
              "<tensorflow.python.keras.callbacks.History at 0x7f892b70e860>"
            ]
          },
          "metadata": {
            "tags": []
          },
          "execution_count": 177
        }
      ]
    },
    {
      "cell_type": "code",
      "metadata": {
        "id": "z6Dzu2FI_WHU"
      },
      "source": [
        "predictions = model.predict_classes(x_test)"
      ],
      "execution_count": 178,
      "outputs": []
    },
    {
      "cell_type": "code",
      "metadata": {
        "id": "MEAzHMDgQALU",
        "outputId": "11e0a311-c310-47ed-d263-941943934bd5",
        "colab": {
          "base_uri": "https://localhost:8080/",
          "height": 51
        }
      },
      "source": [
        "print(confusion_matrix(y_test,predictions))"
      ],
      "execution_count": 179,
      "outputs": [
        {
          "output_type": "stream",
          "text": [
            "[[ 97  46]\n",
            " [ 33 115]]\n"
          ],
          "name": "stdout"
        }
      ]
    },
    {
      "cell_type": "code",
      "metadata": {
        "id": "zIYcyrcCQDua"
      },
      "source": [
        "from sklearn.metrics import accuracy_score"
      ],
      "execution_count": 180,
      "outputs": []
    },
    {
      "cell_type": "code",
      "metadata": {
        "id": "uRo3ZK-3QIMr",
        "outputId": "f4e8b42f-c65e-486f-99e5-f1b25f58215f",
        "colab": {
          "base_uri": "https://localhost:8080/",
          "height": 34
        }
      },
      "source": [
        "print(f\"Accuracy is : {accuracy_score(y_test,predictions)*100}%\")"
      ],
      "execution_count": 182,
      "outputs": [
        {
          "output_type": "stream",
          "text": [
            "Accuracy is : 72.85223367697594%\n"
          ],
          "name": "stdout"
        }
      ]
    }
  ]
}