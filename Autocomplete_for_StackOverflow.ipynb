{
  "nbformat": 4,
  "nbformat_minor": 0,
  "metadata": {
    "colab": {
      "name": "Autocomplete for StackOverflow",
      "provenance": [],
      "collapsed_sections": []
    },
    "kernelspec": {
      "display_name": "Python 3",
      "name": "python3"
    }
  },
  "cells": [
    {
      "cell_type": "markdown",
      "metadata": {
        "id": "Z5mMRQKhPNJ8"
      },
      "source": [
        "<h2>Autocomplete for StackOverflow</h2>"
      ]
    },
    {
      "cell_type": "code",
      "metadata": {
        "id": "lohpvGKcf7dT"
      },
      "source": [
        "import os\n",
        "import numpy as np\n",
        "from keras.preprocessing.text import Tokenizer \n",
        "from keras.models import Sequential\n",
        "from keras.preprocessing.sequence import pad_sequences\n",
        "from keras import layers as L\n",
        "import keras.utils as ku \n",
        "import random\n",
        "import pandas as pd\n",
        "from keras.models import load_model\n",
        "import pickle"
      ],
      "execution_count": 46,
      "outputs": []
    },
    {
      "cell_type": "code",
      "metadata": {
        "id": "EyBd8mHGgM-D"
      },
      "source": [
        "os.chdir(\"/content/drive/MyDrive/Python/Practice/Auto Complete stack overflow\")"
      ],
      "execution_count": 8,
      "outputs": []
    },
    {
      "cell_type": "code",
      "metadata": {
        "colab": {
          "base_uri": "https://localhost:8080/"
        },
        "id": "Dj5HSuHEgjNj",
        "outputId": "4ef891e7-45b3-47a1-a974-0003df310677"
      },
      "source": [
        "ls"
      ],
      "execution_count": 9,
      "outputs": [
        {
          "output_type": "stream",
          "text": [
            "'Autocomplete '   tokenizer.pickle   train.csv   valid.csv   \u001b[0m\u001b[01;34mweights\u001b[0m/\n"
          ],
          "name": "stdout"
        }
      ]
    },
    {
      "cell_type": "code",
      "metadata": {
        "id": "3v0TCSvGgjsC"
      },
      "source": [
        "df = pd.read_csv(\"train.csv\")"
      ],
      "execution_count": 10,
      "outputs": []
    },
    {
      "cell_type": "code",
      "metadata": {
        "colab": {
          "base_uri": "https://localhost:8080/",
          "height": 289
        },
        "id": "oEDp2XUUgkyq",
        "outputId": "8d32fda4-afae-42cf-f5af-09cea376f17c"
      },
      "source": [
        "df.head()"
      ],
      "execution_count": 11,
      "outputs": [
        {
          "output_type": "execute_result",
          "data": {
            "text/html": [
              "<div>\n",
              "<style scoped>\n",
              "    .dataframe tbody tr th:only-of-type {\n",
              "        vertical-align: middle;\n",
              "    }\n",
              "\n",
              "    .dataframe tbody tr th {\n",
              "        vertical-align: top;\n",
              "    }\n",
              "\n",
              "    .dataframe thead th {\n",
              "        text-align: right;\n",
              "    }\n",
              "</style>\n",
              "<table border=\"1\" class=\"dataframe\">\n",
              "  <thead>\n",
              "    <tr style=\"text-align: right;\">\n",
              "      <th></th>\n",
              "      <th>Id</th>\n",
              "      <th>Title</th>\n",
              "      <th>Body</th>\n",
              "      <th>Tags</th>\n",
              "      <th>CreationDate</th>\n",
              "      <th>Y</th>\n",
              "    </tr>\n",
              "  </thead>\n",
              "  <tbody>\n",
              "    <tr>\n",
              "      <th>0</th>\n",
              "      <td>34552656</td>\n",
              "      <td>Java: Repeat Task Every Random Seconds</td>\n",
              "      <td>&lt;p&gt;I'm already familiar with repeating tasks e...</td>\n",
              "      <td>&lt;java&gt;&lt;repeat&gt;</td>\n",
              "      <td>2016-01-01 00:21:59</td>\n",
              "      <td>LQ_CLOSE</td>\n",
              "    </tr>\n",
              "    <tr>\n",
              "      <th>1</th>\n",
              "      <td>34553034</td>\n",
              "      <td>Why are Java Optionals immutable?</td>\n",
              "      <td>&lt;p&gt;I'd like to understand why Java 8 Optionals...</td>\n",
              "      <td>&lt;java&gt;&lt;optional&gt;</td>\n",
              "      <td>2016-01-01 02:03:20</td>\n",
              "      <td>HQ</td>\n",
              "    </tr>\n",
              "    <tr>\n",
              "      <th>2</th>\n",
              "      <td>34553174</td>\n",
              "      <td>Text Overlay Image with Darkened Opacity React...</td>\n",
              "      <td>&lt;p&gt;I am attempting to overlay a title over an ...</td>\n",
              "      <td>&lt;javascript&gt;&lt;image&gt;&lt;overlay&gt;&lt;react-native&gt;&lt;opa...</td>\n",
              "      <td>2016-01-01 02:48:24</td>\n",
              "      <td>HQ</td>\n",
              "    </tr>\n",
              "    <tr>\n",
              "      <th>3</th>\n",
              "      <td>34553318</td>\n",
              "      <td>Why ternary operator in swift is so picky?</td>\n",
              "      <td>&lt;p&gt;The question is very simple, but I just cou...</td>\n",
              "      <td>&lt;swift&gt;&lt;operators&gt;&lt;whitespace&gt;&lt;ternary-operato...</td>\n",
              "      <td>2016-01-01 03:30:17</td>\n",
              "      <td>HQ</td>\n",
              "    </tr>\n",
              "    <tr>\n",
              "      <th>4</th>\n",
              "      <td>34553755</td>\n",
              "      <td>hide/show fab with scale animation</td>\n",
              "      <td>&lt;p&gt;I'm using custom floatingactionmenu. I need...</td>\n",
              "      <td>&lt;android&gt;&lt;material-design&gt;&lt;floating-action-but...</td>\n",
              "      <td>2016-01-01 05:21:48</td>\n",
              "      <td>HQ</td>\n",
              "    </tr>\n",
              "  </tbody>\n",
              "</table>\n",
              "</div>"
            ],
            "text/plain": [
              "         Id  ...         Y\n",
              "0  34552656  ...  LQ_CLOSE\n",
              "1  34553034  ...        HQ\n",
              "2  34553174  ...        HQ\n",
              "3  34553318  ...        HQ\n",
              "4  34553755  ...        HQ\n",
              "\n",
              "[5 rows x 6 columns]"
            ]
          },
          "metadata": {
            "tags": []
          },
          "execution_count": 11
        }
      ]
    },
    {
      "cell_type": "code",
      "metadata": {
        "id": "kRVmeec6glKH"
      },
      "source": [
        "stack_title = df['Title'].values"
      ],
      "execution_count": 12,
      "outputs": []
    },
    {
      "cell_type": "code",
      "metadata": {
        "id": "QNsEPwrZg2QE"
      },
      "source": [
        "t = Tokenizer(num_words=None,\n",
        "              filters='!\"#$%&()*+,-./:;<=>?@[\\\\]^_`{|}~\\t\\n', \n",
        "              lower=True, split=' ', char_level=False, \n",
        "              oov_token=None, document_count=0)"
      ],
      "execution_count": 13,
      "outputs": []
    },
    {
      "cell_type": "code",
      "metadata": {
        "id": "kw_Z3m5mkRjg"
      },
      "source": [
        "t.fit_on_texts(stack_title)"
      ],
      "execution_count": null,
      "outputs": []
    },
    {
      "cell_type": "code",
      "metadata": {
        "id": "KHhCEdZclNxz"
      },
      "source": [
        "total_words = len(t.word_index)+1"
      ],
      "execution_count": null,
      "outputs": []
    },
    {
      "cell_type": "code",
      "metadata": {
        "id": "HhK6bncrhBYF"
      },
      "source": [
        "\"\"\"\n",
        "Implementing N gram \n",
        "Words will be processed like : \n",
        "Hi you\n",
        "Hi you how\n",
        "hi you how are\n",
        "\n",
        "\"\"\"\n",
        "\n",
        "def generate_seq(text):\n",
        "  t.fit_on_texts(text)\n",
        "  total_words = len(t.word_index)+1\n",
        "  input_seq = []\n",
        "  for line in text:\n",
        "    token_list = t.texts_to_sequences([line])[0]\n",
        "    for i in range(1,len(token_list)):\n",
        "      n_gram = token_list[:i+1]\n",
        "      input_seq.append(n_gram)\n",
        "  return input_seq , total_words"
      ],
      "execution_count": null,
      "outputs": []
    },
    {
      "cell_type": "code",
      "metadata": {
        "id": "QbKaWxxliBg-"
      },
      "source": [
        "input_sequences , total_words = generate_seq(stack_title)"
      ],
      "execution_count": null,
      "outputs": []
    },
    {
      "cell_type": "code",
      "metadata": {
        "id": "R6Hj68uWjOWa"
      },
      "source": [
        "def generate_padded_sequences(input_sequences):\n",
        "    max_sequence_len = max([len(x) for x in input_sequences])\n",
        "    input_sequences = np.array(pad_sequences(input_sequences, maxlen = max_sequence_len, padding = 'pre'))\n",
        "    predictors, label = input_sequences[:,:-1],input_sequences[:,-1]\n",
        "    label = ku.to_categorical(label, num_classes = total_words)\n",
        "    \n",
        "    return predictors, label, max_sequence_len"
      ],
      "execution_count": null,
      "outputs": []
    },
    {
      "cell_type": "code",
      "metadata": {
        "id": "5CnRm7ogjQeB"
      },
      "source": [
        "predictors, label, max_sequence_len = generate_padded_sequences(input_sequences)"
      ],
      "execution_count": null,
      "outputs": []
    },
    {
      "cell_type": "code",
      "metadata": {
        "id": "l0wfIU2lkFu4"
      },
      "source": [
        "model = Sequential()\n",
        "model.add(Embedding(total_words, 20, input_length=max_sequence_len - 1))\n",
        "model.add(LSTM(100))\n",
        "model.add(Dropout(0.1))\n",
        "model.add(Dense(total_words, activation='softmax'))\n",
        "model.compile(loss='categorical_crossentropy', optimizer='adam')"
      ],
      "execution_count": null,
      "outputs": []
    },
    {
      "cell_type": "code",
      "metadata": {
        "id": "kefjQ6abyjKl"
      },
      "source": [
        "model = create_model(max_sequence_len, total_words)\n",
        "model.summary()\n",
        "\n",
        "model.fit(predictors, label, epochs=100, verbose=5)"
      ],
      "execution_count": null,
      "outputs": []
    },
    {
      "cell_type": "code",
      "metadata": {
        "id": "QQel4iKMyz3t"
      },
      "source": [
        "with open('tokenizer.pickle', 'rb') as handle:\n",
        "    t = pickle.load(handle)"
      ],
      "execution_count": 29,
      "outputs": []
    },
    {
      "cell_type": "code",
      "metadata": {
        "id": "svUGyg8dymEi"
      },
      "source": [
        "def autocomplete(seed_text, next_words, model, max_seq_len):\n",
        "    for _ in range(next_words):\n",
        "        token_list = t.texts_to_sequences([seed_text])[0]\n",
        "        token_list = pad_sequences([token_list], maxlen=max_seq_len-1, padding='pre')\n",
        "        \n",
        "        predicted = model.predict_classes(token_list, verbose=0)\n",
        "        \n",
        "        output_word = ''\n",
        "        \n",
        "        for word,index in t.word_index.items():\n",
        "            if index == predicted:\n",
        "                output_word = word\n",
        "                break\n",
        "                \n",
        "        seed_text = seed_text + \" \" + output_word\n",
        "        \n",
        "    return seed_text.title()"
      ],
      "execution_count": 30,
      "outputs": []
    },
    {
      "cell_type": "code",
      "metadata": {
        "id": "-m1qGJ68zAQg"
      },
      "source": [
        "model = load_model('weights/model-0149.hdf5')"
      ],
      "execution_count": 57,
      "outputs": []
    },
    {
      "cell_type": "code",
      "metadata": {
        "colab": {
          "base_uri": "https://localhost:8080/",
          "height": 35
        },
        "id": "xvpBYvcLyxjm",
        "outputId": "c8ea8be1-164e-4239-899e-e79dd6ebafa8"
      },
      "source": [
        "autocomplete(\"if else statement\",random.randint(1,10),model,35)"
      ],
      "execution_count": 62,
      "outputs": [
        {
          "output_type": "execute_result",
          "data": {
            "application/vnd.google.colaboratory.intrinsic+json": {
              "type": "string"
            },
            "text/plain": [
              "'If Else Statement With Operator In'"
            ]
          },
          "metadata": {
            "tags": []
          },
          "execution_count": 62
        }
      ]
    },
    {
      "cell_type": "code",
      "metadata": {
        "colab": {
          "base_uri": "https://localhost:8080/",
          "height": 35
        },
        "id": "is41ciL7Mss6",
        "outputId": "2b005328-7098-4afc-9e5b-665371b46b4b"
      },
      "source": [
        "autocomplete(\"i cannot\",20,model,35)"
      ],
      "execution_count": 66,
      "outputs": [
        {
          "output_type": "execute_result",
          "data": {
            "application/vnd.google.colaboratory.intrinsic+json": {
              "type": "string"
            },
            "text/plain": [
              "'I Cannot Find The Sum Of Each Integer In The Result But I Am Getting An Array Of A Function Is Null'"
            ]
          },
          "metadata": {
            "tags": []
          },
          "execution_count": 66
        }
      ]
    },
    {
      "cell_type": "code",
      "metadata": {
        "id": "DnkO58KoPllw"
      },
      "source": [
        ""
      ],
      "execution_count": null,
      "outputs": []
    }
  ]
}